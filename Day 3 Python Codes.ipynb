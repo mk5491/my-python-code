{
 "cells": [
  {
   "cell_type": "code",
   "execution_count": 28,
   "metadata": {},
   "outputs": [],
   "source": [
    "# control + enter key to run the code\n",
    "a = 1"
   ]
  },
  {
   "cell_type": "code",
   "execution_count": 29,
   "metadata": {},
   "outputs": [
    {
     "data": {
      "text/plain": [
       "1"
      ]
     },
     "execution_count": 29,
     "metadata": {},
     "output_type": "execute_result"
    }
   ],
   "source": [
    "a"
   ]
  },
  {
   "cell_type": "code",
   "execution_count": 4,
   "metadata": {},
   "outputs": [
    {
     "name": "stdout",
     "output_type": "stream",
     "text": [
      "1\n"
     ]
    }
   ],
   "source": [
    "print(a)"
   ]
  },
  {
   "cell_type": "code",
   "execution_count": 5,
   "metadata": {},
   "outputs": [],
   "source": [
    "credit_cards = 4"
   ]
  },
  {
   "cell_type": "code",
   "execution_count": 8,
   "metadata": {},
   "outputs": [
    {
     "name": "stdout",
     "output_type": "stream",
     "text": [
      "4\n"
     ]
    }
   ],
   "source": [
    "print(credit_cards)"
   ]
  },
  {
   "cell_type": "code",
   "execution_count": 9,
   "metadata": {},
   "outputs": [
    {
     "ename": "NameError",
     "evalue": "name 'Credit_cards' is not defined",
     "output_type": "error",
     "traceback": [
      "\u001b[0;31m---------------------------------------------------------------------------\u001b[0m",
      "\u001b[0;31mNameError\u001b[0m                                 Traceback (most recent call last)",
      "\u001b[0;32m<ipython-input-9-9090089d2d0b>\u001b[0m in \u001b[0;36m<module>\u001b[0;34m\u001b[0m\n\u001b[0;32m----> 1\u001b[0;31m \u001b[0mCredit_cards\u001b[0m\u001b[0;34m\u001b[0m\u001b[0;34m\u001b[0m\u001b[0m\n\u001b[0m",
      "\u001b[0;31mNameError\u001b[0m: name 'Credit_cards' is not defined"
     ]
    }
   ],
   "source": [
    "Credit_cards # this will not work. Python is case sensitive language"
   ]
  },
  {
   "cell_type": "code",
   "execution_count": 13,
   "metadata": {},
   "outputs": [
    {
     "data": {
      "text/plain": [
       "int"
      ]
     },
     "execution_count": 13,
     "metadata": {},
     "output_type": "execute_result"
    }
   ],
   "source": [
    "type(credit_cards)"
   ]
  },
  {
   "cell_type": "code",
   "execution_count": 16,
   "metadata": {},
   "outputs": [],
   "source": [
    "cust_name = \"Andy Simpson\"\n",
    "# or\n",
    "cust_name = 'Andy Simpson'"
   ]
  },
  {
   "cell_type": "code",
   "execution_count": 17,
   "metadata": {},
   "outputs": [
    {
     "data": {
      "text/plain": [
       "'Andy Simpson'"
      ]
     },
     "execution_count": 17,
     "metadata": {},
     "output_type": "execute_result"
    }
   ],
   "source": [
    "cust_name"
   ]
  },
  {
   "cell_type": "code",
   "execution_count": 18,
   "metadata": {},
   "outputs": [
    {
     "data": {
      "text/plain": [
       "str"
      ]
     },
     "execution_count": 18,
     "metadata": {},
     "output_type": "execute_result"
    }
   ],
   "source": [
    "type(cust_name)"
   ]
  },
  {
   "cell_type": "code",
   "execution_count": 22,
   "metadata": {},
   "outputs": [
    {
     "name": "stdout",
     "output_type": "stream",
     "text": [
      "32.4\n"
     ]
    },
    {
     "data": {
      "text/plain": [
       "float"
      ]
     },
     "execution_count": 22,
     "metadata": {},
     "output_type": "execute_result"
    }
   ],
   "source": [
    "Age = 32.4\n",
    "print(Age)\n",
    "type(Age)"
   ]
  },
  {
   "cell_type": "code",
   "execution_count": 26,
   "metadata": {},
   "outputs": [
    {
     "data": {
      "text/plain": [
       "False"
      ]
     },
     "execution_count": 26,
     "metadata": {},
     "output_type": "execute_result"
    }
   ],
   "source": [
    "is_Male = False\n",
    "is_Male"
   ]
  },
  {
   "cell_type": "code",
   "execution_count": 27,
   "metadata": {},
   "outputs": [
    {
     "data": {
      "text/plain": [
       "bool"
      ]
     },
     "execution_count": 27,
     "metadata": {},
     "output_type": "execute_result"
    }
   ],
   "source": [
    "type(is_Male)"
   ]
  },
  {
   "cell_type": "code",
   "execution_count": 1,
   "metadata": {},
   "outputs": [
    {
     "name": "stdout",
     "output_type": "stream",
     "text": [
      "4\n",
      "1089\n"
     ]
    }
   ],
   "source": [
    "# multiple objects together\n",
    "Credit_cards, Balance = 4, 1089\n",
    "print(Credit_cards)\n",
    "print(Balance)"
   ]
  },
  {
   "cell_type": "code",
   "execution_count": 4,
   "metadata": {},
   "outputs": [
    {
     "data": {
      "text/plain": [
       "\"Apple's Employee\""
      ]
     },
     "execution_count": 4,
     "metadata": {},
     "output_type": "execute_result"
    }
   ],
   "source": [
    "cust_info = \"Apple's Employee\"\n",
    "cust_info"
   ]
  },
  {
   "cell_type": "code",
   "execution_count": 8,
   "metadata": {},
   "outputs": [
    {
     "ename": "SyntaxError",
     "evalue": "invalid syntax (<ipython-input-8-95070b4af33e>, line 2)",
     "output_type": "error",
     "traceback": [
      "\u001b[0;36m  File \u001b[0;32m\"<ipython-input-8-95070b4af33e>\"\u001b[0;36m, line \u001b[0;32m2\u001b[0m\n\u001b[0;31m    cust_info = 'Apple's Employee'\u001b[0m\n\u001b[0m                       ^\u001b[0m\n\u001b[0;31mSyntaxError\u001b[0m\u001b[0;31m:\u001b[0m invalid syntax\n"
     ]
    }
   ],
   "source": [
    "# this will not work\n",
    "cust_info = 'Apple's Employee'\n"
   ]
  },
  {
   "cell_type": "code",
   "execution_count": 4,
   "metadata": {},
   "outputs": [
    {
     "name": "stdout",
     "output_type": "stream",
     "text": [
      "('John', 35, True)\n"
     ]
    },
    {
     "data": {
      "text/plain": [
       "35"
      ]
     },
     "execution_count": 4,
     "metadata": {},
     "output_type": "execute_result"
    }
   ],
   "source": [
    "# creating a tuple - i.e. object with multiple elements\n",
    "cust_details = \"John\",35,True \n",
    "# or\n",
    "cust_details = (\"John\",35,True) \n",
    "print(cust_details)\n",
    "type(cust_details)\n",
    "cust_details[1]"
   ]
  },
  {
   "cell_type": "code",
   "execution_count": 2,
   "metadata": {},
   "outputs": [
    {
     "ename": "NameError",
     "evalue": "name 'cust_details' is not defined",
     "output_type": "error",
     "traceback": [
      "\u001b[0;31m---------------------------------------------------------------------------\u001b[0m",
      "\u001b[0;31mNameError\u001b[0m                                 Traceback (most recent call last)",
      "\u001b[0;32m<ipython-input-2-394078a63cdb>\u001b[0m in \u001b[0;36m<module>\u001b[0;34m\u001b[0m\n\u001b[1;32m      1\u001b[0m \u001b[0;31m# below will not work as tuples are immutable\u001b[0m\u001b[0;34m\u001b[0m\u001b[0;34m\u001b[0m\u001b[0;34m\u001b[0m\u001b[0m\n\u001b[0;32m----> 2\u001b[0;31m \u001b[0mcust_details\u001b[0m\u001b[0;34m[\u001b[0m\u001b[0;36m1\u001b[0m\u001b[0;34m]\u001b[0m\u001b[0;34m\u001b[0m\u001b[0;34m\u001b[0m\u001b[0m\n\u001b[0m\u001b[1;32m      3\u001b[0m \u001b[0;31m###cust_details[1] = 36\u001b[0m\u001b[0;34m\u001b[0m\u001b[0;34m\u001b[0m\u001b[0;34m\u001b[0m\u001b[0m\n",
      "\u001b[0;31mNameError\u001b[0m: name 'cust_details' is not defined"
     ]
    }
   ],
   "source": [
    "# below will not work as tuples are immutable\n",
    "cust_details[1]\n",
    "###cust_details[1] = 36"
   ]
  },
  {
   "cell_type": "code",
   "execution_count": 12,
   "metadata": {},
   "outputs": [
    {
     "name": "stdout",
     "output_type": "stream",
     "text": [
      "['John', 35, 'New york', 'USA', 4]\n"
     ]
    },
    {
     "data": {
      "text/plain": [
       "list"
      ]
     },
     "execution_count": 12,
     "metadata": {},
     "output_type": "execute_result"
    }
   ],
   "source": [
    "## 2. list - the element can be changed i.e. its mutable\n",
    "Cust_details = [\"John\",35,\"New york\",\"USA\",4]\n",
    "print(Cust_details)\n",
    "type(Cust_details)"
   ]
  },
  {
   "cell_type": "code",
   "execution_count": 13,
   "metadata": {},
   "outputs": [],
   "source": [
    "Cust_details[1] = 36"
   ]
  },
  {
   "cell_type": "code",
   "execution_count": 14,
   "metadata": {},
   "outputs": [
    {
     "data": {
      "text/plain": [
       "['John', 36, 'New york', 'USA', 4]"
      ]
     },
     "execution_count": 14,
     "metadata": {},
     "output_type": "execute_result"
    }
   ],
   "source": [
    "Cust_details"
   ]
  },
  {
   "cell_type": "code",
   "execution_count": 16,
   "metadata": {},
   "outputs": [],
   "source": [
    "credit_cards = 4"
   ]
  },
  {
   "cell_type": "code",
   "execution_count": 17,
   "metadata": {},
   "outputs": [
    {
     "data": {
      "text/plain": [
       "10"
      ]
     },
     "execution_count": 17,
     "metadata": {},
     "output_type": "execute_result"
    }
   ],
   "source": [
    "credit_cards = 10\n",
    "credit_cards"
   ]
  },
  {
   "cell_type": "code",
   "execution_count": 18,
   "metadata": {},
   "outputs": [
    {
     "ename": "TypeError",
     "evalue": "'int' object does not support item assignment",
     "output_type": "error",
     "traceback": [
      "\u001b[0;31m---------------------------------------------------------------------------\u001b[0m",
      "\u001b[0;31mTypeError\u001b[0m                                 Traceback (most recent call last)",
      "\u001b[0;32m<ipython-input-18-eb2d47527c52>\u001b[0m in \u001b[0;36m<module>\u001b[0;34m\u001b[0m\n\u001b[0;32m----> 1\u001b[0;31m \u001b[0mcredit_cards\u001b[0m\u001b[0;34m[\u001b[0m\u001b[0;36m0\u001b[0m\u001b[0;34m]\u001b[0m \u001b[0;34m=\u001b[0m\u001b[0;36m10\u001b[0m\u001b[0;34m\u001b[0m\u001b[0;34m\u001b[0m\u001b[0m\n\u001b[0m",
      "\u001b[0;31mTypeError\u001b[0m: 'int' object does not support item assignment"
     ]
    }
   ],
   "source": [
    "credit_cards[0] =10 "
   ]
  },
  {
   "cell_type": "code",
   "execution_count": 22,
   "metadata": {},
   "outputs": [
    {
     "name": "stdout",
     "output_type": "stream",
     "text": [
      "{'Suzuki', 'Merc', 'Hundai', 'Mini Cooper', 'AUDI', 'Bentley', 'BMW'}\n"
     ]
    },
    {
     "data": {
      "text/plain": [
       "set"
      ]
     },
     "execution_count": 22,
     "metadata": {},
     "output_type": "execute_result"
    }
   ],
   "source": [
    "#3. Set object in python\n",
    "Auto_survey = {'BMW', 'BMW','AUDI','Merc', 'Merc','Bentley','Mini Cooper','Suzuki','Hundai'}\n",
    "#or\n",
    "Auto_survey = set(['BMW', 'BMW','AUDI','Merc', 'Merc','Bentley','Mini Cooper','Suzuki','Hundai'])\n",
    "\n",
    "print(Auto_survey)\n",
    "type(Auto_survey)"
   ]
  },
  {
   "cell_type": "code",
   "execution_count": 24,
   "metadata": {},
   "outputs": [
    {
     "name": "stdout",
     "output_type": "stream",
     "text": [
      "John\n",
      "USA\n"
     ]
    }
   ],
   "source": [
    "Cust_details = [\"John\",35,\"New york\",\"USA\",4]\n",
    "print(Cust_details[0])\n",
    "print(Cust_details[3])"
   ]
  },
  {
   "cell_type": "code",
   "execution_count": 28,
   "metadata": {},
   "outputs": [
    {
     "name": "stdout",
     "output_type": "stream",
     "text": [
      "{'Name of Cust': 'John Smith', 'emailid': 'JS@gmail.com', 'Age': 45, 'Credit_card_status': True}\n"
     ]
    },
    {
     "data": {
      "text/plain": [
       "dict"
      ]
     },
     "execution_count": 28,
     "metadata": {},
     "output_type": "execute_result"
    }
   ],
   "source": [
    "# 4. Dictionary\n",
    "Cust_info = {\"Name of Cust\":\"John Smith\",\"emailid\":\"JS@gmail.com\",\"Age\":45,\"Credit_card_status\":True}\n",
    "print(Cust_info)\n",
    "type(Cust_info)"
   ]
  },
  {
   "cell_type": "code",
   "execution_count": 31,
   "metadata": {},
   "outputs": [
    {
     "data": {
      "text/plain": [
       "45"
      ]
     },
     "execution_count": 31,
     "metadata": {},
     "output_type": "execute_result"
    }
   ],
   "source": [
    "Cust_info[\"Age\"]"
   ]
  },
  {
   "cell_type": "code",
   "execution_count": 30,
   "metadata": {},
   "outputs": [
    {
     "data": {
      "text/plain": [
       "'JS@gmail.com'"
      ]
     },
     "execution_count": 30,
     "metadata": {},
     "output_type": "execute_result"
    }
   ],
   "source": [
    "Cust_info[\"emailid\"]"
   ]
  },
  {
   "cell_type": "code",
   "execution_count": 27,
   "metadata": {},
   "outputs": [
    {
     "name": "stdout",
     "output_type": "stream",
     "text": [
      "{'Name of Cust': ['John Smith', 'Andy'], 'emailid': ['JS@gmail.com', 'xyz@rediff.com'], 'Age': [45, 52], 'Credit_card_status': [True, False]}\n"
     ]
    },
    {
     "data": {
      "text/plain": [
       "dict"
      ]
     },
     "execution_count": 27,
     "metadata": {},
     "output_type": "execute_result"
    }
   ],
   "source": [
    "Cust_info = {\"Name of Cust\":[\"John Smith\",\"Andy\"],\"emailid\":[\"JS@gmail.com\",'xyz@rediff.com'],\"Age\":[45,52],\"Credit_card_status\":[True,False]}\n",
    "print(Cust_info)\n",
    "type(Cust_info)"
   ]
  },
  {
   "cell_type": "code",
   "execution_count": 6,
   "metadata": {},
   "outputs": [
    {
     "name": "stdout",
     "output_type": "stream",
     "text": [
      "int64\n"
     ]
    }
   ],
   "source": [
    "import pandas as pd\n",
    "Age_series = pd.Series([34,24,56,78,34,45])\n",
    "print(Age_series.dtype)"
   ]
  },
  {
   "cell_type": "code",
   "execution_count": 5,
   "metadata": {},
   "outputs": [
    {
     "name": "stdout",
     "output_type": "stream",
     "text": [
      "<class 'pandas.core.series.Series'>\n",
      "object\n"
     ]
    }
   ],
   "source": [
    "Cust_names = pd.Series(['John','Paul','Theresa','Liz','Angela'])\n",
    "print(type(Cust_names))\n",
    "print(Cust_names.dtype)"
   ]
  },
  {
   "cell_type": "code",
   "execution_count": 7,
   "metadata": {},
   "outputs": [
    {
     "name": "stdout",
     "output_type": "stream",
     "text": [
      "['John', 35, True]\n",
      "True\n",
      "35\n",
      "John\n",
      "['John', 35]\n"
     ]
    }
   ],
   "source": [
    "### indexing\n",
    "Cust_details = [\"John\",35,True]\n",
    "print(Cust_details)\n",
    "print(Cust_details[2])\n",
    "print(Cust_details[1])\n",
    "print(Cust_details[0])\n",
    "print(Cust_details[0:2]) # n-1\n"
   ]
  },
  {
   "cell_type": "code",
   "execution_count": 26,
   "metadata": {},
   "outputs": [
    {
     "name": "stdout",
     "output_type": "stream",
     "text": [
      "['John', 35, True]\n",
      "['John', 35, True, 'New York']\n",
      "['John', True]\n"
     ]
    },
    {
     "data": {
      "text/plain": [
       "35"
      ]
     },
     "execution_count": 26,
     "metadata": {},
     "output_type": "execute_result"
    }
   ],
   "source": [
    "Cust_details = [\"John\",35,True,\"New York\",\"Self Employed\"]\n",
    "print(Cust_details[0:3])\n",
    "# to fetch oth to 3rd index\n",
    "print(Cust_details[0:4])\n",
    "print([Cust_details[i] for i in [0,2]])\n",
    "list(Cust_details)[1]\n"
   ]
  },
  {
   "cell_type": "code",
   "execution_count": 11,
   "metadata": {},
   "outputs": [
    {
     "data": {
      "text/plain": [
       "['John', 5]"
      ]
     },
     "execution_count": 11,
     "metadata": {},
     "output_type": "execute_result"
    }
   ],
   "source": [
    "# missing variable\n",
    "List1 = [\"John\",1,2,3,5,13,None]\n",
    "#optional\n",
    "[List1[i] for i in [0,4]]"
   ]
  },
  {
   "cell_type": "code",
   "execution_count": 12,
   "metadata": {},
   "outputs": [
    {
     "name": "stdout",
     "output_type": "stream",
     "text": [
      "Now object its integer: 4 <class 'int'>\n"
     ]
    }
   ],
   "source": [
    "### type casting an object\n",
    "# converting to number\n",
    "float_num = 4.67\n",
    "print(\"Now object its integer:\",int(float_num),type(int(float_num)))\n"
   ]
  },
  {
   "cell_type": "code",
   "execution_count": 13,
   "metadata": {},
   "outputs": [
    {
     "name": "stdout",
     "output_type": "stream",
     "text": [
      "Now object its String: 4.67 <class 'str'>\n"
     ]
    }
   ],
   "source": [
    "# converting to string\n",
    "print(\"Now object its String:\",str(float_num),type(str(float_num)))"
   ]
  },
  {
   "cell_type": "code",
   "execution_count": 15,
   "metadata": {},
   "outputs": [
    {
     "name": "stdout",
     "output_type": "stream",
     "text": [
      "5.67\n",
      "5\n"
     ]
    }
   ],
   "source": [
    "str_num = '4.67'\n",
    "# str_num+1\n",
    "print(float(str_num) + 1)\n",
    "print(int(float(str_num)) + 1)\n"
   ]
  },
  {
   "cell_type": "code",
   "execution_count": 18,
   "metadata": {},
   "outputs": [
    {
     "name": "stdout",
     "output_type": "stream",
     "text": [
      "[23, 'john Smith', 101, False]\n",
      "[26, 'john Smith', 101, False]\n"
     ]
    }
   ],
   "source": [
    "# tuple to list\n",
    "tuple1= 23,\"john Smith\",101,False\n",
    "list1  = list(tuple1)\n",
    "print(list1)\n",
    "list1[0]=26\n",
    "print(list1)"
   ]
  },
  {
   "cell_type": "code",
   "execution_count": 17,
   "metadata": {},
   "outputs": [
    {
     "data": {
      "text/plain": [
       "(23, 'john Smith', 101, False)"
      ]
     },
     "execution_count": 17,
     "metadata": {},
     "output_type": "execute_result"
    }
   ],
   "source": [
    "# list to tuple\n",
    "list1= [23,\"john Smith\",101,False]\n",
    "tuple(list1)"
   ]
  },
  {
   "cell_type": "code",
   "execution_count": 19,
   "metadata": {},
   "outputs": [
    {
     "name": "stdout",
     "output_type": "stream",
     "text": [
      "True\n",
      "False\n",
      "True\n",
      "True\n",
      "False\n"
     ]
    }
   ],
   "source": [
    "# converting to logical\n",
    "numbers = 1\n",
    "print(bool(numbers))\n",
    "numbers = 0\n",
    "print(bool(numbers))\n",
    "numbers = 3\n",
    "print(bool(numbers))\n",
    "numbers = -1000\n",
    "print(bool(numbers))\n",
    "numbers = None\n",
    "print(bool(numbers))"
   ]
  },
  {
   "cell_type": "code",
   "execution_count": 20,
   "metadata": {},
   "outputs": [
    {
     "name": "stdout",
     "output_type": "stream",
     "text": [
      "1\n",
      "0\n"
     ]
    }
   ],
   "source": [
    "## convert bool to numeric\n",
    "bool1 = True\n",
    "print(int(bool1))\n",
    "bool1 = False\n",
    "print(int(bool1))"
   ]
  },
  {
   "cell_type": "code",
   "execution_count": 23,
   "metadata": {},
   "outputs": [
    {
     "name": "stdout",
     "output_type": "stream",
     "text": [
      "(34, 23, 35, 64, 23, 21, 34, 56)\n",
      "64\n",
      "(34, 23, 35, 64, 23)\n",
      "23\n",
      "(23, 35, 64, 23, 21, 34, 56)\n",
      "(23, 21, 34, 56)\n",
      "(23, 21)\n",
      "()\n"
     ]
    }
   ],
   "source": [
    "### indexing – In Detail\n",
    "### indexing\n",
    "AgeOfCust = 34,23,35,64,23,21,34,56\n",
    "print(AgeOfCust)\n",
    "print(AgeOfCust[3])\n",
    "print(AgeOfCust[0:5])\n",
    "print(AgeOfCust[-4]) # 4th element from right\n",
    "print(AgeOfCust[1:])\n",
    "print(AgeOfCust[-4:]) # 4th element onwards from left\n",
    "print(AgeOfCust[-4:-2]) #4th last and 3rd last element"
   ]
  },
  {
   "cell_type": "code",
   "execution_count": null,
   "metadata": {},
   "outputs": [],
   "source": []
  },
  {
   "cell_type": "code",
   "execution_count": 18,
   "metadata": {},
   "outputs": [
    {
     "data": {
      "text/plain": [
       "[[34, 23, 35], [23, 21, 34, 56]]"
      ]
     },
     "execution_count": 18,
     "metadata": {},
     "output_type": "execute_result"
    }
   ],
   "source": [
    "AgeOfCust = 34,23,35,64,23,21,34,56\n",
    "[list(AgeOfCust[0:3]),list(AgeOfCust[4:])]\n"
   ]
  },
  {
   "cell_type": "code",
   "execution_count": 28,
   "metadata": {},
   "outputs": [
    {
     "name": "stdout",
     "output_type": "stream",
     "text": [
      "[1, 2, 4]\n",
      "2\n"
     ]
    }
   ],
   "source": [
    "B = [[1,2,4],98,101,100]\n",
    "# Indexing in object inside an object\n",
    "B = [[1,2,4],98,101,100]\n",
    "print(B[0])\n",
    "print(B[0][1])"
   ]
  },
  {
   "cell_type": "code",
   "execution_count": 29,
   "metadata": {},
   "outputs": [
    {
     "data": {
      "text/plain": [
       "98"
      ]
     },
     "execution_count": 29,
     "metadata": {},
     "output_type": "execute_result"
    }
   ],
   "source": [
    "B[1]"
   ]
  },
  {
   "cell_type": "code",
   "execution_count": 30,
   "metadata": {},
   "outputs": [
    {
     "data": {
      "text/plain": [
       "101"
      ]
     },
     "execution_count": 30,
     "metadata": {},
     "output_type": "execute_result"
    }
   ],
   "source": [
    "B[2]"
   ]
  },
  {
   "cell_type": "code",
   "execution_count": 31,
   "metadata": {},
   "outputs": [
    {
     "name": "stdout",
     "output_type": "stream",
     "text": [
      "<class 'list'>\n",
      "<class 'tuple'>\n",
      "(101, 100)\n"
     ]
    }
   ],
   "source": [
    "B = [[1,2,4],(98,101,100)]\n",
    "print(type(B[0]))\n",
    "print(type(B[1]))\n",
    "print(B[1][1:3])"
   ]
  },
  {
   "cell_type": "code",
   "execution_count": 21,
   "metadata": {},
   "outputs": [
    {
     "name": "stdout",
     "output_type": "stream",
     "text": [
      "4\n"
     ]
    },
    {
     "data": {
      "text/plain": [
       "[2, 101]"
      ]
     },
     "execution_count": 21,
     "metadata": {},
     "output_type": "execute_result"
    }
   ],
   "source": [
    "B = [[1,2,4],(98,101,100)]\n",
    "x = B[0][1]\n",
    "y = B[1][1]\n",
    "z = B[0][2]\n",
    "print(z)\n",
    "list([x,y])"
   ]
  },
  {
   "cell_type": "code",
   "execution_count": 30,
   "metadata": {},
   "outputs": [
    {
     "name": "stdout",
     "output_type": "stream",
     "text": [
      "{'Merc', 'Bentley', 'Suzuki', 'Mini Cooper', 'AUDI', 'Hundai', 'BMW'}\n"
     ]
    },
    {
     "data": {
      "text/plain": [
       "'Suzuki'"
      ]
     },
     "execution_count": 30,
     "metadata": {},
     "output_type": "execute_result"
    }
   ],
   "source": [
    "## can not index set directly\n",
    "Auto_survey = {'BMW', 'BMW','AUDI','Merc', 'Merc','Bentley','Mini Cooper','Suzuki','Hundai'}\n",
    "print(Auto_survey)\n",
    "# below will not work\n",
    "# Auto_survey[2]\n",
    "list(Auto_survey)[2]\n"
   ]
  },
  {
   "cell_type": "code",
   "execution_count": 38,
   "metadata": {},
   "outputs": [
    {
     "name": "stdout",
     "output_type": "stream",
     "text": [
      "{'John Email ID': 'John@abc.com', 'kelly': 'kelly@org.com', 'ids': [101, 102]}\n",
      "John@abc.com\n",
      "[101, 102]\n",
      "101\n"
     ]
    }
   ],
   "source": [
    "# indexing dictionary\n",
    "first_dict = {'John Email ID':\"John@abc.com\",'kelly':\"kelly@org.com\",'ids':[101,102]}\n",
    "print(first_dict)\n",
    "# below will not work\n",
    "# first_dict[0]\n",
    "print(first_dict['John Email ID'])\n",
    "print(first_dict['ids'])\n",
    "print(first_dict['ids'][0])\n"
   ]
  }
 ],
 "metadata": {
  "kernelspec": {
   "display_name": "Python 3",
   "language": "python",
   "name": "python3"
  },
  "language_info": {
   "codemirror_mode": {
    "name": "ipython",
    "version": 3
   },
   "file_extension": ".py",
   "mimetype": "text/x-python",
   "name": "python",
   "nbconvert_exporter": "python",
   "pygments_lexer": "ipython3",
   "version": "3.7.6"
  }
 },
 "nbformat": 4,
 "nbformat_minor": 4
}
