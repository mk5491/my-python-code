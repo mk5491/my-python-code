{
 "cells": [
  {
   "cell_type": "code",
   "execution_count": 1,
   "metadata": {},
   "outputs": [
    {
     "data": {
      "text/plain": [
       "0    34\n",
       "1    24\n",
       "2    56\n",
       "3    78\n",
       "4    34\n",
       "5    45\n",
       "6     a\n",
       "dtype: object"
      ]
     },
     "execution_count": 1,
     "metadata": {},
     "output_type": "execute_result"
    }
   ],
   "source": [
    "import pandas as pd\n",
    "Age_series = pd.Series([34,24,56,78,34,45,'a'])\n",
    "Age_series"
   ]
  },
  {
   "cell_type": "code",
   "execution_count": 2,
   "metadata": {},
   "outputs": [
    {
     "data": {
      "text/plain": [
       "['Age_series',\n",
       " 'In',\n",
       " 'Out',\n",
       " '_',\n",
       " '_1',\n",
       " '__',\n",
       " '___',\n",
       " '__builtin__',\n",
       " '__builtins__',\n",
       " '__doc__',\n",
       " '__loader__',\n",
       " '__name__',\n",
       " '__package__',\n",
       " '__spec__',\n",
       " '_dh',\n",
       " '_i',\n",
       " '_i1',\n",
       " '_i2',\n",
       " '_ih',\n",
       " '_ii',\n",
       " '_iii',\n",
       " '_oh',\n",
       " 'exit',\n",
       " 'get_ipython',\n",
       " 'pd',\n",
       " 'quit']"
      ]
     },
     "execution_count": 2,
     "metadata": {},
     "output_type": "execute_result"
    }
   ],
   "source": [
    "## objects created\n",
    "dir()"
   ]
  },
  {
   "cell_type": "code",
   "execution_count": 3,
   "metadata": {},
   "outputs": [],
   "source": [
    "# delete an object\n",
    "B =1\n",
    "del(Age_series,B)"
   ]
  },
  {
   "cell_type": "code",
   "execution_count": 4,
   "metadata": {},
   "outputs": [
    {
     "ename": "NameError",
     "evalue": "name 'Age_series' is not defined",
     "output_type": "error",
     "traceback": [
      "\u001b[0;31m---------------------------------------------------------------------------\u001b[0m",
      "\u001b[0;31mNameError\u001b[0m                                 Traceback (most recent call last)",
      "\u001b[0;32m<ipython-input-4-d2218abf5cbf>\u001b[0m in \u001b[0;36m<module>\u001b[0;34m\u001b[0m\n\u001b[0;32m----> 1\u001b[0;31m \u001b[0mAge_series\u001b[0m\u001b[0;34m\u001b[0m\u001b[0;34m\u001b[0m\u001b[0m\n\u001b[0m",
      "\u001b[0;31mNameError\u001b[0m: name 'Age_series' is not defined"
     ]
    }
   ],
   "source": [
    "# Age_series"
   ]
  },
  {
   "cell_type": "code",
   "execution_count": 1,
   "metadata": {},
   "outputs": [
    {
     "data": {
      "text/plain": [
       "{'AUDI',\n",
       " 'BMW',\n",
       " 'Bentley',\n",
       " 'Hundai',\n",
       " 'Merc',\n",
       " 'Mini Cooper',\n",
       " 'Renault',\n",
       " 'Suzuki'}"
      ]
     },
     "execution_count": 1,
     "metadata": {},
     "output_type": "execute_result"
    }
   ],
   "source": [
    "########### Appending/ Concatenating data\n",
    "# for set\n",
    "Auto_survey1= set(['BMW', 'BMW','AUDI','Merc', 'Merc','Bentley','Mini Cooper','Suzuki','Hundai'])\n",
    "Auto_survey2= set(['BMW', 'Renault'])\n",
    "Combined = Auto_survey1 | Auto_survey2\n",
    "Combined"
   ]
  },
  {
   "cell_type": "code",
   "execution_count": 6,
   "metadata": {},
   "outputs": [
    {
     "name": "stdout",
     "output_type": "stream",
     "text": [
      "{'BMW'}\n"
     ]
    }
   ],
   "source": [
    "Intersection_cars = Auto_survey1 & Auto_survey2\n",
    "print(Intersection_cars)\n"
   ]
  },
  {
   "cell_type": "code",
   "execution_count": 8,
   "metadata": {},
   "outputs": [
    {
     "data": {
      "text/plain": [
       "[6, 3, 4, 5, 2, 100, 101, 107, 108, 107, 100]"
      ]
     },
     "execution_count": 8,
     "metadata": {},
     "output_type": "execute_result"
    }
   ],
   "source": [
    "#  Appending lists\n",
    "list1= [6,3,4,5,2]\n",
    "list2= [100,101,107,108,107,100]\n",
    "list1 + list2"
   ]
  },
  {
   "cell_type": "code",
   "execution_count": 9,
   "metadata": {},
   "outputs": [
    {
     "data": {
      "text/plain": [
       "[6, 3, 4, 5, 2, 100, 101, 107, 108, 107, 100]"
      ]
     },
     "execution_count": 9,
     "metadata": {},
     "output_type": "execute_result"
    }
   ],
   "source": [
    "# for list and tuple\n",
    "tuple1= (6,3,4,5,2)\n",
    "list2= [100,101,107,108,107,100]\n",
    "list(tuple1) + list2\n"
   ]
  },
  {
   "cell_type": "code",
   "execution_count": 10,
   "metadata": {},
   "outputs": [
    {
     "data": {
      "text/plain": [
       "(6, 3, 4, 5, 2, 100, 101, 107, 108, 107, 100)"
      ]
     },
     "execution_count": 10,
     "metadata": {},
     "output_type": "execute_result"
    }
   ],
   "source": [
    "# for tuples\n",
    "tuple1= (6,3,4,5,2)\n",
    "tuple2= (100,101,107,108,107,100)\n",
    "tuple1 + tuple2"
   ]
  },
  {
   "cell_type": "code",
   "execution_count": 11,
   "metadata": {},
   "outputs": [
    {
     "name": "stdout",
     "output_type": "stream",
     "text": [
      "['Mark', 34, 19.6, False, 'Jonathan']\n"
     ]
    }
   ],
   "source": [
    "# update a list\n",
    "First_list = ['Mark',34,19.6,False]\n",
    "First_list.append(\"Jonathan\")\n",
    "print(First_list)"
   ]
  },
  {
   "cell_type": "code",
   "execution_count": 12,
   "metadata": {},
   "outputs": [
    {
     "name": "stdout",
     "output_type": "stream",
     "text": [
      "['Mark', 34, 19.6, False]\n",
      "['Mark', 'Anderson Thompson', 34, 19.6, False]\n"
     ]
    }
   ],
   "source": [
    "## append at defined position\n",
    "First_list = ['Mark',34,19.6,False]\n",
    "print(First_list)\n",
    "\n",
    "First_list.insert(1,\"Anderson Thompson\")\n",
    "print(First_list)"
   ]
  },
  {
   "cell_type": "code",
   "execution_count": 13,
   "metadata": {},
   "outputs": [
    {
     "name": "stdout",
     "output_type": "stream",
     "text": [
      "[19.6, False]\n"
     ]
    }
   ],
   "source": [
    "## deleting a record\n",
    "First_list = ['Mark',34,19.6,False]\n",
    "First_list.remove('Mark')\n",
    "First_list.remove(34)\n",
    "print(First_list)"
   ]
  },
  {
   "cell_type": "code",
   "execution_count": 16,
   "metadata": {},
   "outputs": [
    {
     "name": "stdout",
     "output_type": "stream",
     "text": [
      "['Mark', 34, 19.6, False]\n",
      "[34, 19.6, False]\n"
     ]
    }
   ],
   "source": [
    "## deleting a record at a defined index value\n",
    "First_list = ['Mark',34,19.6,False]\n",
    "print(First_list)\n",
    "First_list.pop(0)\n",
    "print(First_list)"
   ]
  },
  {
   "cell_type": "code",
   "execution_count": 17,
   "metadata": {},
   "outputs": [
    {
     "data": {
      "text/plain": [
       "['Mark', 34, 19.6, False, 'Mark', 34, 19.6, False]"
      ]
     },
     "execution_count": 17,
     "metadata": {},
     "output_type": "execute_result"
    }
   ],
   "source": [
    "## repetition\n",
    "First_list = ['Mark',34,19.6,False]\n",
    "First_list*2\n"
   ]
  },
  {
   "cell_type": "code",
   "execution_count": 18,
   "metadata": {},
   "outputs": [
    {
     "name": "stdout",
     "output_type": "stream",
     "text": [
      "True\n",
      "False\n",
      "True\n"
     ]
    }
   ],
   "source": [
    "############### Operators in Python\n",
    "Student_list = ['Tom','Jack','Nick','Mark','Barb']\n",
    "print('Nick' in Student_list)\n",
    "print('Paul' in Student_list)\n",
    "print('Paul' not in Student_list)\n"
   ]
  },
  {
   "cell_type": "code",
   "execution_count": 22,
   "metadata": {},
   "outputs": [
    {
     "name": "stdout",
     "output_type": "stream",
     "text": [
      "Customer Name is: GerogeWashington\n",
      "Customer Name is: Geroge Washington\n"
     ]
    }
   ],
   "source": [
    "## + operator for concatenation\n",
    "FN = \"Geroge\"\n",
    "LN = \"Washington\"\n",
    "print('Customer Name is:',FN+LN)\n",
    "print('Customer Name is:',FN+\" \"+LN)"
   ]
  },
  {
   "cell_type": "code",
   "execution_count": 23,
   "metadata": {},
   "outputs": [
    {
     "name": "stdout",
     "output_type": "stream",
     "text": [
      "True\n",
      "False\n",
      "False\n",
      "True\n"
     ]
    }
   ],
   "source": [
    "# Comparison operator\n",
    "Cust_income = 2000\n",
    "Credit_cards = 2\n",
    "print(Cust_income >= 1000)\n",
    "print(Credit_cards>4)\n",
    "print(Credit_cards != 2) # not equal to\n",
    "print(Credit_cards == 2) # If 2 values are equal or not"
   ]
  },
  {
   "cell_type": "code",
   "execution_count": 25,
   "metadata": {},
   "outputs": [
    {
     "name": "stdout",
     "output_type": "stream",
     "text": [
      "True\n",
      "False\n",
      "False\n",
      "False\n"
     ]
    }
   ],
   "source": [
    "# Logical operator\n",
    "## & (and operator) and | (or operator)\n",
    "\n",
    "print((2>1) & (3>0)) #print((2>1) & (3>0)) # both conditions are true\n",
    "print((2>1) & (3>100)) #1st is true and 2nd is false\n",
    "print((2>10) & (3>1)) #1st is false and 2nd is true\n",
    "print((2>15) & (3>10)) #both are false"
   ]
  },
  {
   "cell_type": "code",
   "execution_count": 26,
   "metadata": {},
   "outputs": [
    {
     "name": "stdout",
     "output_type": "stream",
     "text": [
      "True\n",
      "True\n",
      "True\n",
      "False\n"
     ]
    }
   ],
   "source": [
    "print((2>1) | (3>0)) #print((2>1) & (3>0)) # both conditions are true\n",
    "print((2>1) | (3>100)) #1st is true and 2nd is false\n",
    "print((2>10) | (3>1)) #1st is false and 2nd is true\n",
    "print((2>15) | (3>10)) #both are false"
   ]
  },
  {
   "cell_type": "code",
   "execution_count": 2,
   "metadata": {},
   "outputs": [
    {
     "name": "stdout",
     "output_type": "stream",
     "text": [
      "True\n"
     ]
    }
   ],
   "source": [
    "# scenario 1\n",
    "Cust_income = 2000\n",
    "Credit_cards = 2\n",
    "### customer should not have more than 3 cards. Income >1800 per month\n",
    "l = (Cust_income>1800) & (Credit_cards<=3)\n",
    "print(l)"
   ]
  },
  {
   "cell_type": "code",
   "execution_count": 28,
   "metadata": {},
   "outputs": [
    {
     "data": {
      "text/plain": [
       "False"
      ]
     },
     "execution_count": 28,
     "metadata": {},
     "output_type": "execute_result"
    }
   ],
   "source": [
    "# scenario 2\n",
    "Cust_income = 1500\n",
    "Credit_cards = 1\n",
    "### customer should not have more than 3 cards. Income >1800 per month\n",
    "(Cust_income >1800) &  (Credit_cards<=3)"
   ]
  },
  {
   "cell_type": "code",
   "execution_count": 29,
   "metadata": {},
   "outputs": [
    {
     "data": {
      "text/plain": [
       "False"
      ]
     },
     "execution_count": 29,
     "metadata": {},
     "output_type": "execute_result"
    }
   ],
   "source": [
    "# scenario 3\n",
    "Cust_income = 2000\n",
    "Credit_cards = 5\n",
    "### customer should not have more than 3 cards. Income >1800 per month\n",
    "(Cust_income >1800) &  (Credit_cards<=3)"
   ]
  },
  {
   "cell_type": "code",
   "execution_count": 31,
   "metadata": {},
   "outputs": [
    {
     "data": {
      "text/plain": [
       "False"
      ]
     },
     "execution_count": 31,
     "metadata": {},
     "output_type": "execute_result"
    }
   ],
   "source": [
    "# scenario 4\n",
    "Cust_income = 1000\n",
    "Credit_cards = 5\n",
    "### customer should not have more than 3 cards. Income >1800 per month\n",
    "(Cust_income >1800) & (Credit_cards<=3)"
   ]
  },
  {
   "cell_type": "code",
   "execution_count": 35,
   "metadata": {},
   "outputs": [
    {
     "data": {
      "text/plain": [
       "True"
      ]
     },
     "execution_count": 35,
     "metadata": {},
     "output_type": "execute_result"
    }
   ],
   "source": [
    "## or condition with variables - either of condition to be true\n",
    "# scenario 1\n",
    "Cust_income = 2000\n",
    "Credit_cards = 2\n",
    "### customer should not have more than 3 cards. Income >1800 per month\n",
    "(Cust_income>1800) | (Credit_cards<=3)"
   ]
  },
  {
   "cell_type": "code",
   "execution_count": 36,
   "metadata": {},
   "outputs": [
    {
     "data": {
      "text/plain": [
       "True"
      ]
     },
     "execution_count": 36,
     "metadata": {},
     "output_type": "execute_result"
    }
   ],
   "source": [
    "# scenario 2\n",
    "Cust_income = 1500\n",
    "Credit_cards = 1\n",
    "### customer should not have more than 3 cards. Income >1800 per month\n",
    "(Cust_income>1800) | (Credit_cards<=3)\n"
   ]
  },
  {
   "cell_type": "code",
   "execution_count": 37,
   "metadata": {},
   "outputs": [
    {
     "data": {
      "text/plain": [
       "True"
      ]
     },
     "execution_count": 37,
     "metadata": {},
     "output_type": "execute_result"
    }
   ],
   "source": [
    "# scenario 3\n",
    "Cust_income = 2000\n",
    "Credit_cards = 5\n",
    "### customer should not have more than 3 cards. Income >1800 per month\n",
    "(Cust_income>1800) | (Credit_cards<=3)\n",
    "\n"
   ]
  },
  {
   "cell_type": "code",
   "execution_count": 38,
   "metadata": {},
   "outputs": [
    {
     "data": {
      "text/plain": [
       "False"
      ]
     },
     "execution_count": 38,
     "metadata": {},
     "output_type": "execute_result"
    }
   ],
   "source": [
    "# scenario 4\n",
    "Cust_income = 1000\n",
    "Credit_cards = 5\n",
    "### customer should not have more than 3 cards. Income >1800 per month\n",
    "(Cust_income>1800) | (Credit_cards<=3)"
   ]
  },
  {
   "cell_type": "code",
   "execution_count": 43,
   "metadata": {},
   "outputs": [
    {
     "name": "stdout",
     "output_type": "stream",
     "text": [
      "322\n",
      "34\n",
      "98\n"
     ]
    }
   ],
   "source": [
    "Marks_math = [45,89,56,34,98]\n",
    "Marks_math\n",
    "print(sum(Marks_math))\n",
    "print(min(Marks_math))\n",
    "print(max(Marks_math))"
   ]
  },
  {
   "cell_type": "code",
   "execution_count": 46,
   "metadata": {},
   "outputs": [
    {
     "data": {
      "text/plain": [
       "64.4"
      ]
     },
     "execution_count": 46,
     "metadata": {},
     "output_type": "execute_result"
    }
   ],
   "source": [
    "import statistics\n",
    "statistics.mean(Marks_math)\n"
   ]
  },
  {
   "cell_type": "code",
   "execution_count": 47,
   "metadata": {},
   "outputs": [
    {
     "data": {
      "text/plain": [
       "64.4"
      ]
     },
     "execution_count": 47,
     "metadata": {},
     "output_type": "execute_result"
    }
   ],
   "source": [
    "import statistics as st\n",
    "st.mean(Marks_math)"
   ]
  },
  {
   "cell_type": "code",
   "execution_count": 45,
   "metadata": {},
   "outputs": [
    {
     "data": {
      "text/plain": [
       "['Decimal',\n",
       " 'Fraction',\n",
       " 'StatisticsError',\n",
       " '__all__',\n",
       " '__builtins__',\n",
       " '__cached__',\n",
       " '__doc__',\n",
       " '__file__',\n",
       " '__loader__',\n",
       " '__name__',\n",
       " '__package__',\n",
       " '__spec__',\n",
       " '_coerce',\n",
       " '_convert',\n",
       " '_counts',\n",
       " '_exact_ratio',\n",
       " '_fail_neg',\n",
       " '_find_lteq',\n",
       " '_find_rteq',\n",
       " '_isfinite',\n",
       " '_ss',\n",
       " '_sum',\n",
       " 'bisect_left',\n",
       " 'bisect_right',\n",
       " 'collections',\n",
       " 'groupby',\n",
       " 'harmonic_mean',\n",
       " 'math',\n",
       " 'mean',\n",
       " 'median',\n",
       " 'median_grouped',\n",
       " 'median_high',\n",
       " 'median_low',\n",
       " 'mode',\n",
       " 'numbers',\n",
       " 'pstdev',\n",
       " 'pvariance',\n",
       " 'stdev',\n",
       " 'variance']"
      ]
     },
     "execution_count": 45,
     "metadata": {},
     "output_type": "execute_result"
    }
   ],
   "source": [
    "dir(statistics)"
   ]
  },
  {
   "cell_type": "code",
   "execution_count": 50,
   "metadata": {},
   "outputs": [
    {
     "name": "stdout",
     "output_type": "stream",
     "text": [
      "Help on function mode in module statistics:\n",
      "\n",
      "mode(data)\n",
      "    Return the most common data point from discrete or nominal data.\n",
      "    \n",
      "    ``mode`` assumes discrete data, and returns a single value. This is the\n",
      "    standard treatment of the mode as commonly taught in schools:\n",
      "    \n",
      "    >>> mode([1, 1, 2, 3, 3, 3, 3, 4])\n",
      "    3\n",
      "    \n",
      "    This also works with nominal (non-numeric) data:\n",
      "    \n",
      "    >>> mode([\"red\", \"blue\", \"blue\", \"red\", \"green\", \"red\", \"red\"])\n",
      "    'red'\n",
      "    \n",
      "    If there is not exactly one most common value, ``mode`` will raise\n",
      "    StatisticsError.\n",
      "\n"
     ]
    }
   ],
   "source": [
    "help(st.mode)"
   ]
  },
  {
   "cell_type": "code",
   "execution_count": 51,
   "metadata": {},
   "outputs": [
    {
     "data": {
      "text/plain": [
       "5"
      ]
     },
     "execution_count": 51,
     "metadata": {},
     "output_type": "execute_result"
    }
   ],
   "source": [
    "Marks_math = [45,89,56,34,98]\n",
    "len(Marks_math)"
   ]
  },
  {
   "cell_type": "code",
   "execution_count": 53,
   "metadata": {},
   "outputs": [
    {
     "data": {
      "text/plain": [
       "2000"
      ]
     },
     "execution_count": 53,
     "metadata": {},
     "output_type": "execute_result"
    }
   ],
   "source": [
    "## numeric functions\n",
    "Net_operating_income = -2000\n",
    "abs(Net_operating_income)\n"
   ]
  },
  {
   "cell_type": "code",
   "execution_count": 54,
   "metadata": {},
   "outputs": [
    {
     "name": "stdout",
     "output_type": "stream",
     "text": [
      "0    5\n",
      "1    9\n",
      "2    5\n",
      "3    7\n",
      "dtype: int64\n"
     ]
    }
   ],
   "source": [
    "import pandas as pd\n",
    "Nums = pd.Series([-5,-9,5,7])\n",
    "print(abs(Nums))"
   ]
  },
  {
   "cell_type": "code",
   "execution_count": 55,
   "metadata": {},
   "outputs": [
    {
     "name": "stdout",
     "output_type": "stream",
     "text": [
      "-9\n",
      "7\n"
     ]
    }
   ],
   "source": [
    "print(min(Nums))\n",
    "print(max(Nums))\n"
   ]
  },
  {
   "cell_type": "code",
   "execution_count": 58,
   "metadata": {},
   "outputs": [
    {
     "data": {
      "text/plain": [
       "nan"
      ]
     },
     "execution_count": 58,
     "metadata": {},
     "output_type": "execute_result"
    }
   ],
   "source": [
    "##################### use numpy functions for missing values\n",
    "Nums = pd.Series([-5,-9,5,7,None,9,10,5,2,9])\n",
    "sum(Nums)"
   ]
  },
  {
   "cell_type": "code",
   "execution_count": 59,
   "metadata": {},
   "outputs": [
    {
     "data": {
      "text/plain": [
       "33.0"
      ]
     },
     "execution_count": 59,
     "metadata": {},
     "output_type": "execute_result"
    }
   ],
   "source": [
    "import numpy as np\n",
    "np.nansum(Nums)"
   ]
  },
  {
   "cell_type": "code",
   "execution_count": 60,
   "metadata": {},
   "outputs": [
    {
     "data": {
      "text/plain": [
       "nan"
      ]
     },
     "execution_count": 60,
     "metadata": {},
     "output_type": "execute_result"
    }
   ],
   "source": [
    "import statistics as st\n",
    "st.mean(Nums)"
   ]
  },
  {
   "cell_type": "code",
   "execution_count": 65,
   "metadata": {},
   "outputs": [
    {
     "data": {
      "text/plain": [
       "3.6666666666666665"
      ]
     },
     "execution_count": 65,
     "metadata": {},
     "output_type": "execute_result"
    }
   ],
   "source": [
    "Nums = pd.Series([-5,-9,5,7,np.NaN,None,9,10,5,2,9])\n",
    "np.nanmean(Nums)"
   ]
  },
  {
   "cell_type": "code",
   "execution_count": null,
   "metadata": {},
   "outputs": [],
   "source": [
    "Name=\"John Anderson\"\n",
    "print(Name.upper())\n",
    "print(Name.lower())\n"
   ]
  },
  {
   "cell_type": "code",
   "execution_count": 66,
   "metadata": {},
   "outputs": [
    {
     "name": "stdout",
     "output_type": "stream",
     "text": [
      "0       John Smith\n",
      "1    Lisa Anderson\n",
      "2    thomas brooke\n",
      "3    Paul Lodwidge\n",
      "dtype: object\n",
      "<class 'pandas.core.series.Series'>\n",
      "object\n"
     ]
    }
   ],
   "source": [
    "## character functions\n",
    "Cust_names = pd.Series([\"John Smith\",\"Lisa Anderson\",\"thomas brooke\",\"Paul Lodwidge\"])\n",
    "print(Cust_names)\n",
    "print(type(Cust_names))\n",
    "print(Cust_names.dtype)\n"
   ]
  },
  {
   "cell_type": "code",
   "execution_count": 69,
   "metadata": {},
   "outputs": [
    {
     "data": {
      "text/plain": [
       "0       JOHN SMITH\n",
       "1    LISA ANDERSON\n",
       "2    THOMAS BROOKE\n",
       "3    PAUL LODWIDGE\n",
       "dtype: object"
      ]
     },
     "execution_count": 69,
     "metadata": {},
     "output_type": "execute_result"
    }
   ],
   "source": [
    "Cust_names.str.upper()"
   ]
  },
  {
   "cell_type": "code",
   "execution_count": 70,
   "metadata": {},
   "outputs": [
    {
     "data": {
      "text/plain": [
       "0       john smith\n",
       "1    lisa anderson\n",
       "2    thomas brooke\n",
       "3    paul lodwidge\n",
       "dtype: object"
      ]
     },
     "execution_count": 70,
     "metadata": {},
     "output_type": "execute_result"
    }
   ],
   "source": [
    "Cust_names.str.lower()"
   ]
  },
  {
   "cell_type": "code",
   "execution_count": 72,
   "metadata": {},
   "outputs": [
    {
     "name": "stdout",
     "output_type": "stream",
     "text": [
      "Major\n"
     ]
    }
   ],
   "source": [
    "########### if else condition\n",
    "Age = 38\n",
    "if Age<18:\n",
    "    print('Minor')\n",
    "else:\n",
    "    print('Major')"
   ]
  },
  {
   "cell_type": "code",
   "execution_count": 73,
   "metadata": {},
   "outputs": [
    {
     "name": "stdout",
     "output_type": "stream",
     "text": [
      "Minor\n"
     ]
    }
   ],
   "source": [
    "########### if else condition\n",
    "Age = 10\n",
    "if Age<18:\n",
    "    print('Minor')\n",
    "else:\n",
    "    print('Major')"
   ]
  },
  {
   "cell_type": "code",
   "execution_count": 74,
   "metadata": {},
   "outputs": [
    {
     "name": "stdout",
     "output_type": "stream",
     "text": [
      "Old\n"
     ]
    }
   ],
   "source": [
    "Age = 90\n",
    "if Age<18:\n",
    "    print('Minor')\n",
    "elif Age<50:\n",
    "    print('Major')\n",
    "else:\n",
    "    print('Old')\n"
   ]
  },
  {
   "cell_type": "code",
   "execution_count": 75,
   "metadata": {},
   "outputs": [
    {
     "name": "stdout",
     "output_type": "stream",
     "text": [
      "Major\n"
     ]
    }
   ],
   "source": [
    "Age = 45\n",
    "if Age<18:\n",
    "    print('Minor')\n",
    "elif Age<50:\n",
    "    print('Major')\n",
    "else:\n",
    "    print('Old')\n"
   ]
  },
  {
   "cell_type": "code",
   "execution_count": 76,
   "metadata": {},
   "outputs": [
    {
     "name": "stdout",
     "output_type": "stream",
     "text": [
      "Minor\n"
     ]
    }
   ],
   "source": [
    "Age = 10\n",
    "if Age<18:\n",
    "    print('Minor')\n",
    "elif Age<50:\n",
    "    print('Major')\n",
    "else:\n",
    "    print('Old')"
   ]
  },
  {
   "cell_type": "code",
   "execution_count": 80,
   "metadata": {},
   "outputs": [
    {
     "name": "stdout",
     "output_type": "stream",
     "text": [
      "Minor+Intelligent\n"
     ]
    }
   ],
   "source": [
    "# nested condition\n",
    "Age = 16\n",
    "IQ = \"Intelligent\"\n",
    "if Age<18:\n",
    "    if IQ == \"Intelligent\":\n",
    "        print('Minor+Intelligent')\n",
    "    else:\n",
    "        print('Minor+Normal')\n",
    "elif Age<50:\n",
    "    print('Major')\n",
    "else:\n",
    "    print('Old')"
   ]
  },
  {
   "cell_type": "code",
   "execution_count": 82,
   "metadata": {},
   "outputs": [
    {
     "data": {
      "text/plain": [
       "'The current month is March'"
      ]
     },
     "execution_count": 82,
     "metadata": {},
     "output_type": "execute_result"
    }
   ],
   "source": [
    "# User defined functions\n",
    "# step 1 - creating a function\n",
    "def Print_month():\n",
    "    return \"The current month is March\"\n",
    "\n",
    "# Step 2 - Executing function\n",
    "Print_month()"
   ]
  },
  {
   "cell_type": "code",
   "execution_count": 83,
   "metadata": {},
   "outputs": [
    {
     "data": {
      "text/plain": [
       "'The current month is:Jan'"
      ]
     },
     "execution_count": 83,
     "metadata": {},
     "output_type": "execute_result"
    }
   ],
   "source": [
    "## function with 1 parameter\n",
    "# step 1 - creating a function\n",
    "def Print_month(ThisMonth):\n",
    "    return \"The current month is:\" + ThisMonth\n",
    "\n",
    "# Step 2 - Executing function\n",
    "Print_month('Jan')"
   ]
  },
  {
   "cell_type": "code",
   "execution_count": 84,
   "metadata": {},
   "outputs": [
    {
     "data": {
      "text/plain": [
       "'The current month is:March and Year is: 2020'"
      ]
     },
     "execution_count": 84,
     "metadata": {},
     "output_type": "execute_result"
    }
   ],
   "source": [
    "## function with > 1 parameter\n",
    "# step 1 - creating a function\n",
    "def Print_month(ThisMonth,ThisYear):\n",
    "    return \"The current month is:\" + ThisMonth + \" and Year is: \" + ThisYear\n",
    "\n",
    "# Step 2 - Executing function\n",
    "Print_month('March','2020')"
   ]
  },
  {
   "cell_type": "code",
   "execution_count": 85,
   "metadata": {},
   "outputs": [
    {
     "data": {
      "text/plain": [
       "8"
      ]
     },
     "execution_count": 85,
     "metadata": {},
     "output_type": "execute_result"
    }
   ],
   "source": [
    "# Mathematical function\n",
    "def Power_fn(x,y):\n",
    "    return x**y\n",
    "\n",
    "Power_fn(2,3)"
   ]
  },
  {
   "cell_type": "code",
   "execution_count": null,
   "metadata": {},
   "outputs": [],
   "source": []
  },
  {
   "cell_type": "code",
   "execution_count": 87,
   "metadata": {},
   "outputs": [
    {
     "data": {
      "text/plain": [
       "'Minor'"
      ]
     },
     "execution_count": 87,
     "metadata": {},
     "output_type": "execute_result"
    }
   ],
   "source": [
    "\n",
    "def check_age(Age):\n",
    "    if Age<18:\n",
    "        return 'Minor'\n",
    "    elif Age<50:\n",
    "        return 'Major'\n",
    "    else:\n",
    "        return 'Old'\n",
    "\n",
    "check_age(17)"
   ]
  },
  {
   "cell_type": "code",
   "execution_count": 90,
   "metadata": {},
   "outputs": [
    {
     "data": {
      "text/plain": [
       "[0, 1, 2, 3, 4, 5, 6, 7, 8, 9]"
      ]
     },
     "execution_count": 90,
     "metadata": {},
     "output_type": "execute_result"
    }
   ],
   "source": [
    "list(range(10))"
   ]
  },
  {
   "cell_type": "code",
   "execution_count": 91,
   "metadata": {},
   "outputs": [
    {
     "name": "stdout",
     "output_type": "stream",
     "text": [
      "0\n",
      "1\n",
      "2\n",
      "3\n",
      "4\n",
      "5\n",
      "6\n",
      "7\n",
      "8\n",
      "9\n"
     ]
    }
   ],
   "source": [
    "for i in range(10):\n",
    "    print(i)"
   ]
  },
  {
   "cell_type": "code",
   "execution_count": 92,
   "metadata": {},
   "outputs": [
    {
     "name": "stdout",
     "output_type": "stream",
     "text": [
      "0\n",
      "5\n",
      "10\n",
      "15\n",
      "20\n",
      "25\n",
      "30\n",
      "35\n",
      "40\n",
      "45\n"
     ]
    }
   ],
   "source": [
    "for i in range(10):\n",
    "    print(i*5)"
   ]
  },
  {
   "cell_type": "code",
   "execution_count": 99,
   "metadata": {},
   "outputs": [
    {
     "data": {
      "text/plain": [
       "[0, 5, 10, 15, 20, 25, 30, 35, 40, 45]"
      ]
     },
     "execution_count": 99,
     "metadata": {},
     "output_type": "execute_result"
    }
   ],
   "source": [
    "list_empty=[]\n",
    "for i in range(10):\n",
    "    list_empty.append(i*5)\n",
    "list_empty"
   ]
  },
  {
   "cell_type": "code",
   "execution_count": 3,
   "metadata": {},
   "outputs": [
    {
     "name": "stdout",
     "output_type": "stream",
     "text": [
      "45\n",
      "34\n",
      "23\n"
     ]
    }
   ],
   "source": [
    "list1 = [45,34,23]\n",
    "for i in list1:\n",
    "    print(i)"
   ]
  },
  {
   "cell_type": "code",
   "execution_count": 95,
   "metadata": {},
   "outputs": [
    {
     "name": "stdout",
     "output_type": "stream",
     "text": [
      "Robeta\n",
      "Alexa\n",
      "Barb\n",
      "Simon\n"
     ]
    }
   ],
   "source": [
    "list1 = [\"Robeta\",'Alexa','Barb','Simon']\n",
    "for i in list1:\n",
    "    print(i)"
   ]
  },
  {
   "cell_type": "code",
   "execution_count": null,
   "metadata": {},
   "outputs": [],
   "source": [
    "# Below while loop will run for ever\n",
    "'''\n",
    "temp = 90\n",
    "while temp<95:\n",
    "    temp=temp-1\n",
    "    print(temp)\n",
    "'''"
   ]
  },
  {
   "cell_type": "code",
   "execution_count": 107,
   "metadata": {},
   "outputs": [
    {
     "data": {
      "text/plain": [
       "[45, 56, 67, 78]"
      ]
     },
     "execution_count": 107,
     "metadata": {},
     "output_type": "execute_result"
    }
   ],
   "source": [
    "Marks_maths = [56,67,78,45]\n",
    "sorted(Marks_maths)"
   ]
  },
  {
   "cell_type": "code",
   "execution_count": 108,
   "metadata": {},
   "outputs": [
    {
     "data": {
      "text/plain": [
       "[78, 67, 56, 45]"
      ]
     },
     "execution_count": 108,
     "metadata": {},
     "output_type": "execute_result"
    }
   ],
   "source": [
    "sorted(Marks_maths,reverse=True)"
   ]
  },
  {
   "cell_type": "code",
   "execution_count": 109,
   "metadata": {},
   "outputs": [
    {
     "name": "stdout",
     "output_type": "stream",
     "text": [
      "0 56\n",
      "1 67\n",
      "2 78\n",
      "3 45\n"
     ]
    }
   ],
   "source": [
    "Marks_maths = [56,67,78,45]\n",
    "for x,y in enumerate(Marks_maths):\n",
    "    print(x,y)"
   ]
  },
  {
   "cell_type": "code",
   "execution_count": null,
   "metadata": {},
   "outputs": [],
   "source": [
    "### Lesson 05"
   ]
  },
  {
   "cell_type": "code",
   "execution_count": 4,
   "metadata": {},
   "outputs": [],
   "source": [
    "import numpy as np\n",
    "distance = [10,15,23,14]\n",
    "time = [.3,.47,.2,.1]"
   ]
  },
  {
   "cell_type": "code",
   "execution_count": 5,
   "metadata": {},
   "outputs": [
    {
     "ename": "TypeError",
     "evalue": "unsupported operand type(s) for /: 'list' and 'list'",
     "output_type": "error",
     "traceback": [
      "\u001b[0;31m---------------------------------------------------------------------------\u001b[0m",
      "\u001b[0;31mTypeError\u001b[0m                                 Traceback (most recent call last)",
      "\u001b[0;32m<ipython-input-5-7e09fd468e3f>\u001b[0m in \u001b[0;36m<module>\u001b[0;34m\u001b[0m\n\u001b[0;32m----> 1\u001b[0;31m \u001b[0mdistance\u001b[0m\u001b[0;34m/\u001b[0m\u001b[0mtime\u001b[0m\u001b[0;34m\u001b[0m\u001b[0;34m\u001b[0m\u001b[0m\n\u001b[0m",
      "\u001b[0;31mTypeError\u001b[0m: unsupported operand type(s) for /: 'list' and 'list'"
     ]
    }
   ],
   "source": [
    "# distance/time"
   ]
  },
  {
   "cell_type": "code",
   "execution_count": 7,
   "metadata": {},
   "outputs": [
    {
     "data": {
      "text/plain": [
       "array([10, 15, 23, 14])"
      ]
     },
     "execution_count": 7,
     "metadata": {},
     "output_type": "execute_result"
    }
   ],
   "source": [
    "distance_array = np.array(distance)\n",
    "distance_array"
   ]
  },
  {
   "cell_type": "code",
   "execution_count": 8,
   "metadata": {},
   "outputs": [
    {
     "data": {
      "text/plain": [
       "array([0.3 , 0.47, 0.2 , 0.1 ])"
      ]
     },
     "execution_count": 8,
     "metadata": {},
     "output_type": "execute_result"
    }
   ],
   "source": [
    "time_array = np.array(time)\n",
    "time_array"
   ]
  },
  {
   "cell_type": "code",
   "execution_count": 9,
   "metadata": {},
   "outputs": [
    {
     "data": {
      "text/plain": [
       "array([ 33.33333333,  31.91489362, 115.        , 140.        ])"
      ]
     },
     "execution_count": 9,
     "metadata": {},
     "output_type": "execute_result"
    }
   ],
   "source": [
    "distance_array/time_array"
   ]
  },
  {
   "cell_type": "code",
   "execution_count": 20,
   "metadata": {},
   "outputs": [
    {
     "data": {
      "text/plain": [
       "[34, 45, 89, 48, 55, 98, 67, 36, 60]"
      ]
     },
     "execution_count": 20,
     "metadata": {},
     "output_type": "execute_result"
    }
   ],
   "source": [
    "Marks_maths =   [34,45,89]\n",
    "Marks_science = [48,55,98]\n",
    "Marks_socst =   [67,36,60]\n",
    "Marks_maths + Marks_science + Marks_socst\n"
   ]
  },
  {
   "cell_type": "code",
   "execution_count": 21,
   "metadata": {},
   "outputs": [
    {
     "data": {
      "text/plain": [
       "array([149, 136, 247])"
      ]
     },
     "execution_count": 21,
     "metadata": {},
     "output_type": "execute_result"
    }
   ],
   "source": [
    "np.array(Marks_maths) + np.array(Marks_science) + np.array(Marks_socst)"
   ]
  },
  {
   "cell_type": "code",
   "execution_count": 5,
   "metadata": {},
   "outputs": [
    {
     "name": "stdout",
     "output_type": "stream",
     "text": [
      "[49.66666667 45.33333333 82.33333333]\n"
     ]
    }
   ],
   "source": [
    "import numpy as np\n",
    "Marks_maths =   [34,45,89]\n",
    "Marks_science = [48,55,98]\n",
    "Marks_socst =   [67,36,60]\n",
    "l = np.array(Marks_maths)/3 + np.array(Marks_science)/3 + np.array(Marks_socst)/3\n",
    "print(l)"
   ]
  },
  {
   "cell_type": "code",
   "execution_count": 17,
   "metadata": {},
   "outputs": [
    {
     "data": {
      "text/plain": [
       "dtype('int64')"
      ]
     },
     "execution_count": 17,
     "metadata": {},
     "output_type": "execute_result"
    }
   ],
   "source": [
    "maths_marks =np.array([34,45,89])\n",
    "maths_marks.dtype"
   ]
  },
  {
   "cell_type": "code",
   "execution_count": 15,
   "metadata": {},
   "outputs": [
    {
     "data": {
      "text/plain": [
       "array([39, 50, 94])"
      ]
     },
     "execution_count": 15,
     "metadata": {},
     "output_type": "execute_result"
    }
   ],
   "source": [
    "maths_marks+5"
   ]
  },
  {
   "cell_type": "code",
   "execution_count": 22,
   "metadata": {},
   "outputs": [
    {
     "data": {
      "text/plain": [
       "1"
      ]
     },
     "execution_count": 22,
     "metadata": {},
     "output_type": "execute_result"
    }
   ],
   "source": [
    "maths_marks.ndim"
   ]
  },
  {
   "cell_type": "code",
   "execution_count": 24,
   "metadata": {},
   "outputs": [
    {
     "data": {
      "text/plain": [
       "array([[  34, 1000],\n",
       "       [  35, 5000],\n",
       "       [  45, 7000]])"
      ]
     },
     "execution_count": 24,
     "metadata": {},
     "output_type": "execute_result"
    }
   ],
   "source": [
    "Cust_details=np.array([[34,1000],[35,5000],[45,7000]])\n",
    "Cust_details"
   ]
  },
  {
   "cell_type": "code",
   "execution_count": 27,
   "metadata": {},
   "outputs": [
    {
     "data": {
      "text/plain": [
       "array([[[  34, 1000],\n",
       "        [  35, 5000],\n",
       "        [  45, 7000]],\n",
       "\n",
       "       [[  36, 1800],\n",
       "        [  65, 4000],\n",
       "        [  49, 7600]]])"
      ]
     },
     "execution_count": 27,
     "metadata": {},
     "output_type": "execute_result"
    }
   ],
   "source": [
    "Cust_details_Jio_JioFiber = np.array([[[34,1000],[35,5000],[45,7000]],[[36,1800],[65,4000],[49,7600]]])\n",
    "Cust_details_Jio_JioFiber"
   ]
  },
  {
   "cell_type": "code",
   "execution_count": null,
   "metadata": {},
   "outputs": [],
   "source": [
    "'''\n",
    "Activity \n",
    "*********\n",
    "Math_marks = xxx\n",
    "Science_Marks = xxx\n",
    "1. For a student to get admitted to \"Science\" Stream he should get Marks in Math >70 AND marks in science as >75 \n",
    "Other wise he will be into \"Non-Science\" stream.\n",
    "2. Exception - If marks in math or science i.e. either is >90 irrespective of fact the point 1 cut off is met or not student will be \n",
    "eligible for Science steam.\n",
    "Create if else condition WITH USER DEFINED FUNCTION with output as \"Science stream Eligible\" and \"Science stream NOT Eligible\"\n",
    "'''"
   ]
  },
  {
   "cell_type": "code",
   "execution_count": 18,
   "metadata": {},
   "outputs": [
    {
     "data": {
      "text/plain": [
       "'Science stream NOT Eligible'"
      ]
     },
     "execution_count": 18,
     "metadata": {},
     "output_type": "execute_result"
    }
   ],
   "source": [
    "Math_marks = 34\n",
    "Science_Marks = 20\n",
    "\n",
    "def Eligible_criteria_fn(Math_marks,Science_Marks):\n",
    "    if (Math_marks > 70) | (Science_Marks > 75) | (Math_marks > 90) | (Science_Marks > 90):\n",
    "        return (\"Science stream Eligible\")\n",
    "    else:\n",
    "        return (\"Science stream NOT Eligible\")\n",
    "    \n",
    "Eligible_criteria_fn(Math_marks,Science_Marks)"
   ]
  },
  {
   "cell_type": "code",
   "execution_count": 12,
   "metadata": {},
   "outputs": [
    {
     "data": {
      "text/plain": [
       "'Science stream Eligible'"
      ]
     },
     "execution_count": 12,
     "metadata": {},
     "output_type": "execute_result"
    }
   ],
   "source": [
    "def Eligible_criteria_fn(Math_marks,Science_Marks):\n",
    "    if Math_marks>70:\n",
    "        if Science_Marks>75:\n",
    "            return (\"Science stream Eligible\")\n",
    "        else:\n",
    "            return (\"Science stream NOT Eligible\")\n",
    "    else:\n",
    "            return (\"Science stream NOT Eligible\")\n",
    "\n",
    "Eligible_criteria_fn(74,81)"
   ]
  },
  {
   "cell_type": "code",
   "execution_count": null,
   "metadata": {},
   "outputs": [],
   "source": []
  }
 ],
 "metadata": {
  "kernelspec": {
   "display_name": "Python 3",
   "language": "python",
   "name": "python3"
  },
  "language_info": {
   "codemirror_mode": {
    "name": "ipython",
    "version": 3
   },
   "file_extension": ".py",
   "mimetype": "text/x-python",
   "name": "python",
   "nbconvert_exporter": "python",
   "pygments_lexer": "ipython3",
   "version": "3.7.6"
  }
 },
 "nbformat": 4,
 "nbformat_minor": 4
}
