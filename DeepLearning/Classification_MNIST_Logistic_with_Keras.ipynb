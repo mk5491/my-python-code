{
 "cells": [
  {
   "cell_type": "code",
   "execution_count": 2,
   "metadata": {},
   "outputs": [],
   "source": [
    "import tensorflow as tf\n",
    "import warnings\n",
    "warnings.filterwarnings(\"ignore\")"
   ]
  },
  {
   "cell_type": "code",
   "execution_count": 4,
   "metadata": {},
   "outputs": [
    {
     "name": "stdout",
     "output_type": "stream",
     "text": [
      "Downloading data from https://storage.googleapis.com/tensorflow/tf-keras-datasets/mnist.npz\n",
      "11493376/11490434 [==============================] - 2s 0us/step\n"
     ]
    }
   ],
   "source": [
    "(train_X, train_Y), (test_X, test_Y) = tf.keras.datasets.mnist.load_data()"
   ]
  },
  {
   "cell_type": "code",
   "execution_count": 5,
   "metadata": {},
   "outputs": [
    {
     "data": {
      "text/plain": [
       "(60000, 28, 28)"
      ]
     },
     "execution_count": 5,
     "metadata": {},
     "output_type": "execute_result"
    }
   ],
   "source": [
    "train_X.shape"
   ]
  },
  {
   "cell_type": "code",
   "execution_count": 6,
   "metadata": {},
   "outputs": [],
   "source": [
    "train_Y = tf.keras.utils.to_categorical(train_Y, num_classes=10)\n",
    "test_Y = tf.keras.utils.to_categorical(test_Y, num_classes=10)"
   ]
  },
  {
   "cell_type": "code",
   "execution_count": 7,
   "metadata": {},
   "outputs": [],
   "source": [
    "model = tf.keras.models.Sequential()"
   ]
  },
  {
   "cell_type": "code",
   "execution_count": 8,
   "metadata": {},
   "outputs": [],
   "source": [
    "model.add(tf.keras.layers.Reshape((784,), input_shape=(28,28)))"
   ]
  },
  {
   "cell_type": "code",
   "execution_count": 13,
   "metadata": {},
   "outputs": [],
   "source": [
    "model.add(tf.keras.layers.BatchNormalization())\n",
    "model.add(tf.keras.layers.Dense(422, activation=\"relu\"))\n",
    "model.add(tf.keras.layers.BatchNormalization())\n",
    "model.add(tf.keras.layers.Dense(380, activation=\"relu\"))\n",
    "model.add(tf.keras.layers.BatchNormalization())\n",
    "model.add(tf.keras.layers.Dense(10, activation=\"softmax\"))\n",
    "model.compile(optimizer='Adam', loss='categorical_crossentropy', metrics=['accuracy'])"
   ]
  },
  {
   "cell_type": "code",
   "execution_count": 14,
   "metadata": {},
   "outputs": [
    {
     "name": "stdout",
     "output_type": "stream",
     "text": [
      "Train on 60000 samples, validate on 10000 samples\n",
      "Epoch 1/50\n",
      "60000/60000 [==============================] - 14s 229us/sample - loss: 0.5020 - acc: 0.8642 - val_loss: 2.0372 - val_acc: 0.9511\n",
      "Epoch 2/50\n",
      "60000/60000 [==============================] - 14s 229us/sample - loss: 0.1462 - acc: 0.9737 - val_loss: 1.9605 - val_acc: 0.9297\n",
      "Epoch 3/50\n",
      "60000/60000 [==============================] - 15s 253us/sample - loss: 0.0928 - acc: 0.9810 - val_loss: 1.9404 - val_acc: 0.5556\n",
      "Epoch 4/50\n",
      "60000/60000 [==============================] - 15s 251us/sample - loss: 0.0632 - acc: 0.9865 - val_loss: 1.9218 - val_acc: 0.4611\n",
      "Epoch 5/50\n",
      "60000/60000 [==============================] - 15s 252us/sample - loss: 0.0446 - acc: 0.9906 - val_loss: 1.8828 - val_acc: 0.5483\n",
      "Epoch 6/50\n",
      "60000/60000 [==============================] - 17s 277us/sample - loss: 0.0363 - acc: 0.9931 - val_loss: 1.8432 - val_acc: 0.5523\n",
      "Epoch 7/50\n",
      "60000/60000 [==============================] - 14s 238us/sample - loss: 0.0297 - acc: 0.9946 - val_loss: 1.7988 - val_acc: 0.5583\n",
      "Epoch 8/50\n",
      "60000/60000 [==============================] - 16s 272us/sample - loss: 0.0255 - acc: 0.9955 - val_loss: 1.7463 - val_acc: 0.5602\n",
      "Epoch 9/50\n",
      "60000/60000 [==============================] - 15s 254us/sample - loss: 0.0213 - acc: 0.9963 - val_loss: 1.6884 - val_acc: 0.7165\n",
      "Epoch 10/50\n",
      "60000/60000 [==============================] - 17s 277us/sample - loss: 0.0218 - acc: 0.9964 - val_loss: 1.6137 - val_acc: 0.7439\n",
      "Epoch 11/50\n",
      "60000/60000 [==============================] - 15s 255us/sample - loss: 0.0215 - acc: 0.9963 - val_loss: 1.5432 - val_acc: 0.7582\n",
      "Epoch 12/50\n",
      "60000/60000 [==============================] - 16s 267us/sample - loss: 0.0192 - acc: 0.9968 - val_loss: 1.4584 - val_acc: 0.7657\n",
      "Epoch 13/50\n",
      "60000/60000 [==============================] - 16s 259us/sample - loss: 0.0163 - acc: 0.9973 - val_loss: 1.3757 - val_acc: 0.8474\n",
      "Epoch 14/50\n",
      "60000/60000 [==============================] - 15s 253us/sample - loss: 0.0155 - acc: 0.9976 - val_loss: 1.2741 - val_acc: 0.8722\n",
      "Epoch 15/50\n",
      "60000/60000 [==============================] - 17s 277us/sample - loss: 0.0129 - acc: 0.9981 - val_loss: 1.1788 - val_acc: 0.8759\n",
      "Epoch 16/50\n",
      "60000/60000 [==============================] - 14s 238us/sample - loss: 0.0132 - acc: 0.9981 - val_loss: 1.0762 - val_acc: 0.8785\n",
      "Epoch 17/50\n",
      "60000/60000 [==============================] - 15s 256us/sample - loss: 0.0129 - acc: 0.9981 - val_loss: 0.9752 - val_acc: 0.9530\n",
      "Epoch 18/50\n",
      "60000/60000 [==============================] - 15s 255us/sample - loss: 0.0144 - acc: 0.9977 - val_loss: 0.8795 - val_acc: 0.9644\n",
      "Epoch 19/50\n",
      "60000/60000 [==============================] - 16s 275us/sample - loss: 0.0143 - acc: 0.9977 - val_loss: 0.7871 - val_acc: 0.9664\n",
      "Epoch 20/50\n",
      "60000/60000 [==============================] - 16s 260us/sample - loss: 0.0119 - acc: 0.9982 - val_loss: 0.6949 - val_acc: 0.9683\n",
      "Epoch 21/50\n",
      "60000/60000 [==============================] - 16s 274us/sample - loss: 0.0121 - acc: 0.9983 - val_loss: 0.6076 - val_acc: 0.9701\n",
      "Epoch 22/50\n",
      "60000/60000 [==============================] - 16s 268us/sample - loss: 0.0136 - acc: 0.9980 - val_loss: 0.5217 - val_acc: 0.9681\n",
      "Epoch 23/50\n",
      "60000/60000 [==============================] - 16s 261us/sample - loss: 0.0125 - acc: 0.9981 - val_loss: 0.4461 - val_acc: 0.9713\n",
      "Epoch 24/50\n",
      "60000/60000 [==============================] - 15s 251us/sample - loss: 0.0097 - acc: 0.9986 - val_loss: 0.3865 - val_acc: 0.9714\n",
      "Epoch 25/50\n",
      "60000/60000 [==============================] - 17s 278us/sample - loss: 0.0096 - acc: 0.9985 - val_loss: 0.3248 - val_acc: 0.9716\n",
      "Epoch 26/50\n",
      "60000/60000 [==============================] - 15s 252us/sample - loss: 0.0094 - acc: 0.9987 - val_loss: 0.2850 - val_acc: 0.9721\n",
      "Epoch 27/50\n",
      "60000/60000 [==============================] - 16s 275us/sample - loss: 0.0086 - acc: 0.9989 - val_loss: 0.2456 - val_acc: 0.9732\n",
      "Epoch 28/50\n",
      "60000/60000 [==============================] - 15s 254us/sample - loss: 0.0092 - acc: 0.9988 - val_loss: 0.2128 - val_acc: 0.9727\n",
      "Epoch 29/50\n",
      "60000/60000 [==============================] - 17s 277us/sample - loss: 0.0093 - acc: 0.9987 - val_loss: 0.1911 - val_acc: 0.9713\n",
      "Epoch 30/50\n",
      "60000/60000 [==============================] - 15s 252us/sample - loss: 0.0094 - acc: 0.9987 - val_loss: 0.1750 - val_acc: 0.9704\n",
      "Epoch 31/50\n",
      "60000/60000 [==============================] - 17s 277us/sample - loss: 0.0099 - acc: 0.9985 - val_loss: 0.1597 - val_acc: 0.9717\n",
      "Epoch 32/50\n",
      "60000/60000 [==============================] - 15s 258us/sample - loss: 0.0120 - acc: 0.9982 - val_loss: 0.1547 - val_acc: 0.9701\n",
      "Epoch 33/50\n",
      "60000/60000 [==============================] - 17s 277us/sample - loss: 0.0109 - acc: 0.9981 - val_loss: 0.1418 - val_acc: 0.9723\n",
      "Epoch 34/50\n",
      "60000/60000 [==============================] - 15s 254us/sample - loss: 0.0110 - acc: 0.9981 - val_loss: 0.1297 - val_acc: 0.9744\n",
      "Epoch 35/50\n",
      "60000/60000 [==============================] - 17s 276us/sample - loss: 0.0097 - acc: 0.9983 - val_loss: 0.1273 - val_acc: 0.9734\n",
      "Epoch 36/50\n",
      "60000/60000 [==============================] - 15s 253us/sample - loss: 0.0111 - acc: 0.9984 - val_loss: 0.1243 - val_acc: 0.9735\n",
      "Epoch 37/50\n",
      "60000/60000 [==============================] - 17s 278us/sample - loss: 0.0092 - acc: 0.9986 - val_loss: 0.1177 - val_acc: 0.9749\n",
      "Epoch 38/50\n",
      "60000/60000 [==============================] - 16s 273us/sample - loss: 0.0081 - acc: 0.9987 - val_loss: 0.1228 - val_acc: 0.9728\n",
      "Epoch 39/50\n",
      "60000/60000 [==============================] - 16s 259us/sample - loss: 0.0092 - acc: 0.9985 - val_loss: 0.1200 - val_acc: 0.9738\n",
      "Epoch 40/50\n",
      "60000/60000 [==============================] - 17s 276us/sample - loss: 0.0107 - acc: 0.9985 - val_loss: 0.1180 - val_acc: 0.9733\n",
      "Epoch 41/50\n",
      "60000/60000 [==============================] - 16s 261us/sample - loss: 0.0091 - acc: 0.9987 - val_loss: 0.1217 - val_acc: 0.9750\n",
      "Epoch 42/50\n",
      "60000/60000 [==============================] - 17s 275us/sample - loss: 0.0079 - acc: 0.9990 - val_loss: 0.1247 - val_acc: 0.9741\n",
      "Epoch 43/50\n",
      "60000/60000 [==============================] - 17s 287us/sample - loss: 0.0079 - acc: 0.9988 - val_loss: 0.1244 - val_acc: 0.9739\n",
      "Epoch 44/50\n",
      "60000/60000 [==============================] - 17s 282us/sample - loss: 0.0069 - acc: 0.9989 - val_loss: 0.1282 - val_acc: 0.9742\n",
      "Epoch 45/50\n",
      "60000/60000 [==============================] - 15s 258us/sample - loss: 0.0082 - acc: 0.9986 - val_loss: 0.1318 - val_acc: 0.9738\n",
      "Epoch 46/50\n",
      "60000/60000 [==============================] - 17s 281us/sample - loss: 0.0056 - acc: 0.9992 - val_loss: 0.1276 - val_acc: 0.9740\n",
      "Epoch 47/50\n",
      "60000/60000 [==============================] - 16s 269us/sample - loss: 0.0059 - acc: 0.9991 - val_loss: 0.1305 - val_acc: 0.9739\n",
      "Epoch 48/50\n",
      "60000/60000 [==============================] - 16s 269us/sample - loss: 0.0065 - acc: 0.9990 - val_loss: 0.1366 - val_acc: 0.9741\n",
      "Epoch 49/50\n",
      "60000/60000 [==============================] - 17s 279us/sample - loss: 0.0054 - acc: 0.9992 - val_loss: 0.1353 - val_acc: 0.9747\n",
      "Epoch 50/50\n",
      "60000/60000 [==============================] - 15s 254us/sample - loss: 0.0050 - acc: 0.9993 - val_loss: 0.1357 - val_acc: 0.9750\n"
     ]
    },
    {
     "data": {
      "text/plain": [
       "<tensorflow.python.keras.callbacks.History at 0x7f7e0a64e110>"
      ]
     },
     "execution_count": 14,
     "metadata": {},
     "output_type": "execute_result"
    }
   ],
   "source": [
    "model.fit(train_X, train_Y,\n",
    "         validation_data=(test_X, test_Y),\n",
    "         epochs=50,\n",
    "         batch_size=5888)"
   ]
  },
  {
   "cell_type": "code",
   "execution_count": null,
   "metadata": {},
   "outputs": [],
   "source": []
  }
 ],
 "metadata": {
  "kernelspec": {
   "display_name": "Python 3",
   "language": "python",
   "name": "python3"
  },
  "language_info": {
   "codemirror_mode": {
    "name": "ipython",
    "version": 3
   },
   "file_extension": ".py",
   "mimetype": "text/x-python",
   "name": "python",
   "nbconvert_exporter": "python",
   "pygments_lexer": "ipython3",
   "version": "3.7.4"
  }
 },
 "nbformat": 4,
 "nbformat_minor": 2
}
