{
 "cells": [
  {
   "cell_type": "code",
   "execution_count": 44,
   "metadata": {},
   "outputs": [],
   "source": [
    "import tensorflow as tf\n",
    "import warnings\n",
    "warnings.filterwarnings('ignore')"
   ]
  },
  {
   "cell_type": "code",
   "execution_count": 55,
   "metadata": {},
   "outputs": [],
   "source": [
    "(train_x, train_y), (test_x, test_y) = tf.keras.datasets.fashion_mnist.load_data()"
   ]
  },
  {
   "cell_type": "code",
   "execution_count": 56,
   "metadata": {},
   "outputs": [
    {
     "data": {
      "text/plain": [
       "(60000, 28, 28)"
      ]
     },
     "execution_count": 56,
     "metadata": {},
     "output_type": "execute_result"
    }
   ],
   "source": [
    "train_y = tf.keras.utils.to_categorical(train_y, num_classes=10)\n",
    "test_y = tf.keras.utils.to_categorical(test_y, num_classes=10)\n",
    "train_x.shape"
   ]
  },
  {
   "cell_type": "code",
   "execution_count": 57,
   "metadata": {},
   "outputs": [],
   "source": [
    "model = tf.keras.models.Sequential()\n",
    "model.add(tf.keras.layers.Reshape((784,),input_shape=(28,28,)))\n",
    "model.add(tf.keras.layers.BatchNormalization())\n",
    "\n",
    "model.add(tf.keras.layers.Dense(200))\n",
    "model.add(tf.keras.layers.ReLU())\n",
    "model.add(tf.keras.layers.BatchNormalization())\n",
    "\n",
    "model.add(tf.keras.layers.Dense(160))\n",
    "model.add(tf.keras.layers.ReLU())\n",
    "model.add(tf.keras.layers.BatchNormalization())\n",
    "\n",
    "model.add(tf.keras.layers.Dense(120))\n",
    "model.add(tf.keras.layers.ReLU())\n",
    "model.add(tf.keras.layers.BatchNormalization())\n",
    "\n",
    "model.add(tf.keras.layers.Dense(80))\n",
    "model.add(tf.keras.layers.ReLU())\n",
    "model.add(tf.keras.layers.BatchNormalization())\n",
    "\n",
    "model.add(tf.keras.layers.Dense(60))\n",
    "model.add(tf.keras.layers.ReLU())\n",
    "model.add(tf.keras.layers.BatchNormalization())\n",
    "\n",
    "\n",
    "model.add(tf.keras.layers.Dense(10, activation='softmax'))"
   ]
  },
  {
   "cell_type": "code",
   "execution_count": 58,
   "metadata": {},
   "outputs": [],
   "source": [
    "sgd_optimizer = tf.keras.optimizers.SGD(lr=0.3)\n",
    "\n",
    "\n",
    "model.compile(optimizer=sgd_optimizer, loss='categorical_crossentropy', metrics=['accuracy'])"
   ]
  },
  {
   "cell_type": "code",
   "execution_count": 59,
   "metadata": {},
   "outputs": [
    {
     "name": "stdout",
     "output_type": "stream",
     "text": [
      "Train on 60000 samples, validate on 10000 samples\n",
      "Epoch 1/20\n",
      "60000/60000 [==============================] - 30s 496us/sample - loss: 0.5499 - acc: 0.8052 - val_loss: 0.4339 - val_acc: 0.8437\n",
      "Epoch 2/20\n",
      "60000/60000 [==============================] - 28s 465us/sample - loss: 0.4063 - acc: 0.8523 - val_loss: 0.3771 - val_acc: 0.8648\n",
      "Epoch 3/20\n",
      "60000/60000 [==============================] - 27s 455us/sample - loss: 0.3657 - acc: 0.8658 - val_loss: 0.3618 - val_acc: 0.8711\n",
      "Epoch 4/20\n",
      "60000/60000 [==============================] - 28s 464us/sample - loss: 0.3417 - acc: 0.8747 - val_loss: 0.3683 - val_acc: 0.8660\n",
      "Epoch 5/20\n",
      "60000/60000 [==============================] - 28s 463us/sample - loss: 0.3196 - acc: 0.8816 - val_loss: 0.3489 - val_acc: 0.8771\n",
      "Epoch 6/20\n",
      "60000/60000 [==============================] - 28s 465us/sample - loss: 0.3026 - acc: 0.8876 - val_loss: 0.3299 - val_acc: 0.8804\n",
      "Epoch 7/20\n",
      "60000/60000 [==============================] - 28s 467us/sample - loss: 0.2891 - acc: 0.8923 - val_loss: 0.3351 - val_acc: 0.8765\n",
      "Epoch 8/20\n",
      "60000/60000 [==============================] - 28s 467us/sample - loss: 0.2796 - acc: 0.8960 - val_loss: 0.3285 - val_acc: 0.8842\n",
      "Epoch 9/20\n",
      "60000/60000 [==============================] - 28s 466us/sample - loss: 0.2684 - acc: 0.8996 - val_loss: 0.3193 - val_acc: 0.8858\n",
      "Epoch 10/20\n",
      "60000/60000 [==============================] - 28s 467us/sample - loss: 0.2626 - acc: 0.9017 - val_loss: 0.3218 - val_acc: 0.8827\n",
      "Epoch 11/20\n",
      "60000/60000 [==============================] - 28s 466us/sample - loss: 0.2497 - acc: 0.9069 - val_loss: 0.3351 - val_acc: 0.8830\n",
      "Epoch 12/20\n",
      "60000/60000 [==============================] - 28s 467us/sample - loss: 0.2434 - acc: 0.9100 - val_loss: 0.3174 - val_acc: 0.8843\n",
      "Epoch 13/20\n",
      "60000/60000 [==============================] - 28s 467us/sample - loss: 0.2370 - acc: 0.9124 - val_loss: 0.3289 - val_acc: 0.8862\n",
      "Epoch 14/20\n",
      "60000/60000 [==============================] - 28s 465us/sample - loss: 0.2264 - acc: 0.9143 - val_loss: 0.3196 - val_acc: 0.8903\n",
      "Epoch 15/20\n",
      "60000/60000 [==============================] - 28s 466us/sample - loss: 0.2231 - acc: 0.9161 - val_loss: 0.3400 - val_acc: 0.8845\n",
      "Epoch 16/20\n",
      "60000/60000 [==============================] - 28s 467us/sample - loss: 0.2187 - acc: 0.9175 - val_loss: 0.3207 - val_acc: 0.8920\n",
      "Epoch 17/20\n",
      "60000/60000 [==============================] - 28s 466us/sample - loss: 0.2135 - acc: 0.9192 - val_loss: 0.3204 - val_acc: 0.8932\n",
      "Epoch 18/20\n",
      "60000/60000 [==============================] - 28s 467us/sample - loss: 0.2053 - acc: 0.9222 - val_loss: 0.3259 - val_acc: 0.8941\n",
      "Epoch 19/20\n",
      "60000/60000 [==============================] - 28s 466us/sample - loss: 0.2033 - acc: 0.9232 - val_loss: 0.3295 - val_acc: 0.8903\n",
      "Epoch 20/20\n",
      "60000/60000 [==============================] - 28s 472us/sample - loss: 0.2017 - acc: 0.9245 - val_loss: 0.3278 - val_acc: 0.8903\n"
     ]
    }
   ],
   "source": [
    "model_fit = model.fit(train_x,train_y,          \n",
    "          validation_data=(test_x,test_y),\n",
    "          epochs=20,\n",
    "          batch_size=32)"
   ]
  },
  {
   "cell_type": "code",
   "execution_count": 60,
   "metadata": {},
   "outputs": [],
   "source": [
    "import matplotlib.pyplot as plt\n"
   ]
  },
  {
   "cell_type": "code",
   "execution_count": 61,
   "metadata": {},
   "outputs": [
    {
     "data": {
      "text/plain": [
       "<matplotlib.legend.Legend at 0x7f90dca91bd0>"
      ]
     },
     "execution_count": 61,
     "metadata": {},
     "output_type": "execute_result"
    },
    {
     "data": {
      "image/png": "[encoded data removed]",
      "text/plain": [
       "<Figure size 432x288 with 1 Axes>"
      ]
     },
     "metadata": {
      "needs_background": "light"
     },
     "output_type": "display_data"
    }
   ],
   "source": [
    "plt.plot(model_fit.history['acc'], label='accuracy')\n",
    "plt.plot(model_fit.history['val_acc'], label='val_accuracy')\n",
    "plt.xlabel('Epoch')\n",
    "plt.ylabel('Accuracy')\n",
    "plt.ylim([0.5, 1])\n",
    "plt.legend(loc='lower right')"
   ]
  },
  {
   "cell_type": "code",
   "execution_count": null,
   "metadata": {},
   "outputs": [],
   "source": []
  }
 ],
 "metadata": {
  "kernelspec": {
   "display_name": "Python 3",
   "language": "python",
   "name": "python3"
  },
  "language_info": {
   "codemirror_mode": {
    "name": "ipython",
    "version": 3
   },
   "file_extension": ".py",
   "mimetype": "text/x-python",
   "name": "python",
   "nbconvert_exporter": "python",
   "pygments_lexer": "ipython3",
   "version": "3.7.4"
  }
 },
 "nbformat": 4,
 "nbformat_minor": 2
}
