{
 "cells": [
  {
   "cell_type": "code",
   "execution_count": 7,
   "metadata": {},
   "outputs": [
    {
     "name": "stdout",
     "output_type": "stream",
     "text": [
      "Country that won maximum gold medals is USA\n",
      "countries who won more than 20 gold medals are['Great Britain' 'China' 'Russia' 'USA']\n",
      "Great Britain, gold medal - 29, Total Medals - 65\n",
      "China, gold medal - 38, Total Medals - 88\n",
      "Russia, gold medal - 24, Total Medals - 81\n",
      "USA, gold medal - 46, Total Medals - 103\n",
      "Korea, gold medal - 13, Total Medals - 28\n",
      "Japan, gold medal - 7, Total Medals - 38\n",
      "Germany, gold medal - 11, Total Medals - 36\n"
     ]
    }
   ],
   "source": [
    "import numpy as np\n",
    "country = np.array([\"Great Britain\", \"China\", \"Russia\", \"USA\", \"Korea\", \"Japan\", \"Germany\"])\n",
    "gold = np.array([29, 38, 24, 46, 13, 7, 11])\n",
    "silver = np.array([17, 28, 25, 28, 8, 14, 11])\n",
    "bronze = np.array([19, 22, 32, 29, 7, 17, 14])\n",
    "Max_gold_country = country[gold.argmax()]\n",
    "print(\"Country that won maximum gold medals is {}\". format(Max_gold_country))\n",
    "More_than_20_gold = country[gold>20]\n",
    "print(\"countries who won more than 20 gold medals are{}\".format(More_than_20_gold))\n",
    "for i in range(len(country)):\n",
    "    gold_medal = gold[i]\n",
    "    Country = country[i]\n",
    "    Total_Medal = gold[i]+silver[i]+bronze[i]\n",
    "    print(\"{}, gold medal - {}, Total Medals - {}\".format(Country,gold_medal,Total_Medal))"
   ]
  },
  {
   "cell_type": "code",
   "execution_count": null,
   "metadata": {},
   "outputs": [],
   "source": []
  }
 ],
 "metadata": {
  "kernelspec": {
   "display_name": "Python 3",
   "language": "python",
   "name": "python3"
  },
  "language_info": {
   "codemirror_mode": {
    "name": "ipython",
    "version": 3
   },
   "file_extension": ".py",
   "mimetype": "text/x-python",
   "name": "python",
   "nbconvert_exporter": "python",
   "pygments_lexer": "ipython3",
   "version": "3.7.6"
  }
 },
 "nbformat": 4,
 "nbformat_minor": 4
}
