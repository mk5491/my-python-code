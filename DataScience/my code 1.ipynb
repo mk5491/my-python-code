{
 "cells": [
  {
   "cell_type": "code",
   "execution_count": 2,
   "metadata": {},
   "outputs": [
    {
     "data": {
      "text/plain": [
       "['BMW',\n",
       " 'BMW',\n",
       " 'AUDI',\n",
       " 'Merc',\n",
       " 'Merc',\n",
       " 'Bentley',\n",
       " 'Mini Cooper',\n",
       " 'Suzuki',\n",
       " 'Hundai',\n",
       " 'BMW',\n",
       " 'Renault']"
      ]
     },
     "execution_count": 2,
     "metadata": {},
     "output_type": "execute_result"
    }
   ],
   "source": [
    "Auto_survey1= (['BMW', 'BMW','AUDI','Merc', 'Merc','Bentley','Mini Cooper','Suzuki','Hundai'])\n",
    "Auto_survey2= (['BMW', 'Renault'])\n",
    "Combined = Auto_survey1 + Auto_survey2\n",
    "Combined"
   ]
  },
  {
   "cell_type": "code",
   "execution_count": 9,
   "metadata": {},
   "outputs": [
    {
     "data": {
      "text/plain": [
       "['Mark', 34, 'Manoj', 19.6, False]"
      ]
     },
     "execution_count": 9,
     "metadata": {},
     "output_type": "execute_result"
    }
   ],
   "source": [
    "First_list = ['Mark',34,19.6,False]\n",
    "First_list.insert(2,\"Manoj\")\n",
    "First_list"
   ]
  },
  {
   "cell_type": "code",
   "execution_count": 10,
   "metadata": {},
   "outputs": [
    {
     "data": {
      "text/plain": [
       "['Mark', 34, 19.6, False, 'Mark', 34, 19.6, False]"
      ]
     },
     "execution_count": 10,
     "metadata": {},
     "output_type": "execute_result"
    }
   ],
   "source": [
    "First_list = ['Mark',34,19.6,False]\n",
    "First_list*2\n"
   ]
  },
  {
   "cell_type": "code",
   "execution_count": 13,
   "metadata": {},
   "outputs": [
    {
     "data": {
      "text/plain": [
       "['Mark', 34, 19.6, False, 'Mark', 34, 19.6, False, 'Mark', 34, 19.6, False]"
      ]
     },
     "execution_count": 13,
     "metadata": {},
     "output_type": "execute_result"
    }
   ],
   "source": [
    "First_list = ['Mark',34,19.6,False]\n",
    "First_list*3\n"
   ]
  },
  {
   "cell_type": "code",
   "execution_count": 14,
   "metadata": {},
   "outputs": [
    {
     "data": {
      "text/plain": [
       "[]"
      ]
     },
     "execution_count": 14,
     "metadata": {},
     "output_type": "execute_result"
    }
   ],
   "source": [
    "First_list*-1"
   ]
  },
  {
   "cell_type": "code",
   "execution_count": 15,
   "metadata": {},
   "outputs": [
    {
     "name": "stdout",
     "output_type": "stream",
     "text": [
      "False\n",
      "False\n",
      "True\n"
     ]
    }
   ],
   "source": [
    "Student_list = ['Tom','Jack','Nick','Mark','Barb']\n",
    "print('Manoj' in Student_list)\n",
    "print('Paul' in Student_list)\n",
    "print('Paul' not in Student_list)"
   ]
  },
  {
   "cell_type": "code",
   "execution_count": 42,
   "metadata": {},
   "outputs": [
    {
     "name": "stdout",
     "output_type": "stream",
     "text": [
      "Country With Highest GDP is  Norway with GDP 40034.85063\n",
      "Country With Lowest GDP is Ethiopia with GDP 229.6769525\n",
      "229.6769525\n",
      "40034.85063\n",
      "711232.7841133\n",
      "12743.828910617945\n",
      "11289.409271639683\n"
     ]
    },
    {
     "data": {
      "text/plain": [
       "array([-0.70890655, -0.83644045,  0.02449978,  1.09993753,  1.25370438,\n",
       "        0.6416895 , -0.83970368, -0.65906908,  1.05495905, -0.77242478,\n",
       "       -0.50895308, -0.68037113, -0.83954024, -0.83362788, -0.32694027,\n",
       "       -0.67874952, -0.62202214,  0.32084217,  1.53570163, -0.6834911 ,\n",
       "       -0.37381764, -0.86785003, -0.70989026,  1.27756548,  0.9202445 ,\n",
       "       -0.78114377, -0.85427339, -0.4113527 , -0.85494663, -0.85561647,\n",
       "       -0.77491128, -0.43498918, -0.82013522, -0.79116083,  1.28894693,\n",
       "        0.60012111,  2.21979323, -0.84834706,  0.42332674, -0.86396239,\n",
       "       -0.4664372 , -0.39243747, -0.73612922, -0.86430354,  0.26342253,\n",
       "        2.25563616, -0.83312909, -0.62225348,  1.95100371, -0.64617013,\n",
       "        1.74519145, -0.58572   ,  0.32477772,  1.75307099,  2.18780436,\n",
       "       -0.67407418,  0.76656923,  1.3326448 ,  2.07171787, -0.13405333,\n",
       "       -0.44080136, -0.82643987, -0.85858526])"
      ]
     },
     "execution_count": 42,
     "metadata": {},
     "output_type": "execute_result"
    }
   ],
   "source": [
    "import numpy as np\n",
    "\n",
    "countries = np.array(['Algeria','Angola','Argentina','Australia','Austria','Bahamas','Bangladesh','Belarus','Belgium','Bhutan','Brazil','Bulgaria','Cambodia','Cameroon','Chile','China','Colombia','Cyprus','Denmark','El Salvador','Estonia','Ethiopia','Fiji','Finland','France','Georgia','Ghana','Grenada','Guinea','Haiti','Honduras','Hungary','India','Indonesia','Ireland','Italy','Japan','Kenya', 'South Korea','Liberia','Malaysia','Mexico', 'Morocco','Nepal','New Zealand','Norway','Pakistan', 'Peru','Qatar','Russia','Singapore','South Africa','Spain','Sweden','Switzerland','Thailand', 'United Arab Emirates','United Kingdom','United States','Uruguay','Venezuela','Vietnam','Zimbabwe'])\n",
    "GDP_values = np.array([2255.225482,629.9553062,11601.63022,25306.82494,27266.40335,19466.99052,588.3691778,2890.345675,24733.62696,1445.760002,4803.398244,2618.876037,590.4521124,665.7982328,7122.938458,2639.54156,3362.4656,15378.16704,30860.12808,2579.115607,6525.541272,229.6769525,2242.689259,27570.4852,23016.84778,1334.646773,402.6953275,6047.200797,394.1156638,385.5793827,1414.072488,5745.981529,837.7464011,1206.991065,27715.52837,18937.24998,39578.07441,478.2194906,16684.21278,279.2204061,5345.213415,6288.25324,1908.304416,274.8728621,14646.42094,40034.85063,672.1547506,3359.517402,36152.66676,3054.727742,33529.83052,3825.093781,15428.32098,33630.24604,39170.41371,2699.123242,21058.43643,28272.40661,37691.02733,9581.05659,5671.912202,757.4009286,347.7456605])\n",
    "countries.size\n",
    "Max_Value = GDP_values.argmax()\n",
    "Max_GDP = GDP_values.max()\n",
    "print(\"Country With Highest GDP is \", countries[Max_Value], \"with GDP\", Max_GDP)\n",
    "Min_Value =  GDP_values.argmin()\n",
    "Min_GDP = GDP_values.min()\n",
    "print(\"Country With Lowest GDP is\", countries[Min_Value], \"with GDP\", Min_GDP)\n",
    "print(GDP_values.min())\n",
    "print(GDP_values.max())\n",
    "print(GDP_values.sum())\n",
    "print(GDP_values.std())\n",
    "print(GDP_values.mean())\n",
    "(GDP_values - GDP_values.mean())/ GDP_values.std()\n",
    "###for x,y in zip(countries,GDP_values):\n",
    "   ### print(x,\"-\", y)"
   ]
  },
  {
   "cell_type": "code",
   "execution_count": 43,
   "metadata": {},
   "outputs": [
    {
     "data": {
      "text/plain": [
       "0.1206896551724138"
      ]
     },
     "execution_count": 43,
     "metadata": {},
     "output_type": "execute_result"
    }
   ],
   "source": [
    "7/58\n"
   ]
  },
  {
   "cell_type": "code",
   "execution_count": 44,
   "metadata": {},
   "outputs": [
    {
     "data": {
      "text/plain": [
       "0.10344827586206896"
      ]
     },
     "execution_count": 44,
     "metadata": {},
     "output_type": "execute_result"
    }
   ],
   "source": [
    "6/58"
   ]
  },
  {
   "cell_type": "code",
   "execution_count": null,
   "metadata": {},
   "outputs": [],
   "source": []
  }
 ],
 "metadata": {
  "kernelspec": {
   "display_name": "Python 3",
   "language": "python",
   "name": "python3"
  },
  "language_info": {
   "codemirror_mode": {
    "name": "ipython",
    "version": 3
   },
   "file_extension": ".py",
   "mimetype": "text/x-python",
   "name": "python",
   "nbconvert_exporter": "python",
   "pygments_lexer": "ipython3",
   "version": "3.7.6"
  }
 },
 "nbformat": 4,
 "nbformat_minor": 4
}
