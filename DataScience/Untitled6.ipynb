{
 "cells": [
  {
   "cell_type": "code",
   "execution_count": 1,
   "metadata": {},
   "outputs": [],
   "source": [
    "import pandas as pd\n",
    "df_media = pd.read_csv('Advertising Budget and Sales.csv')\n",
    "df_media = df_media.drop('Unnamed: 0', axis=1)\n",
    "df_media = df_media.rename(columns={'TV Ad Budget ($)': 'TV', 'Radio Ad Budget ($)' : 'Radio', 'Newspaper Ad Budget ($)' : 'Newspaper', 'Sales ($)' : 'Sales'})\n",
    "media_used = pd.DataFrame(df_media.columns[0:3], columns=['media channels used by the firm'])"
   ]
  },
  {
   "cell_type": "code",
   "execution_count": 12,
   "metadata": {},
   "outputs": [
    {
     "name": "stdout",
     "output_type": "stream",
     "text": [
      "1.4220352193338552\n"
     ]
    },
    {
     "data": {
      "text/html": [
       "<div>\n",
       "<style scoped>\n",
       "    .dataframe tbody tr th:only-of-type {\n",
       "        vertical-align: middle;\n",
       "    }\n",
       "\n",
       "    .dataframe tbody tr th {\n",
       "        vertical-align: top;\n",
       "    }\n",
       "\n",
       "    .dataframe thead th {\n",
       "        text-align: right;\n",
       "    }\n",
       "</style>\n",
       "<table border=\"1\" class=\"dataframe\">\n",
       "  <thead>\n",
       "    <tr style=\"text-align: right;\">\n",
       "      <th></th>\n",
       "      <th>TV</th>\n",
       "      <th>Radio</th>\n",
       "      <th>Newspaper</th>\n",
       "      <th>Sales</th>\n",
       "      <th>Predicted Sales</th>\n",
       "      <th>Error</th>\n",
       "    </tr>\n",
       "  </thead>\n",
       "  <tbody>\n",
       "    <tr>\n",
       "      <th>0</th>\n",
       "      <td>88.3</td>\n",
       "      <td>25.5</td>\n",
       "      <td>73.4</td>\n",
       "      <td>12.9</td>\n",
       "      <td>11.541882</td>\n",
       "      <td>10.528046</td>\n",
       "    </tr>\n",
       "    <tr>\n",
       "      <th>1</th>\n",
       "      <td>25.6</td>\n",
       "      <td>39.0</td>\n",
       "      <td>9.3</td>\n",
       "      <td>9.5</td>\n",
       "      <td>11.128947</td>\n",
       "      <td>17.146810</td>\n",
       "    </tr>\n",
       "    <tr>\n",
       "      <th>2</th>\n",
       "      <td>94.2</td>\n",
       "      <td>4.9</td>\n",
       "      <td>8.1</td>\n",
       "      <td>9.7</td>\n",
       "      <td>8.058200</td>\n",
       "      <td>16.925777</td>\n",
       "    </tr>\n",
       "    <tr>\n",
       "      <th>3</th>\n",
       "      <td>184.9</td>\n",
       "      <td>43.9</td>\n",
       "      <td>1.7</td>\n",
       "      <td>20.7</td>\n",
       "      <td>19.539128</td>\n",
       "      <td>5.608077</td>\n",
       "    </tr>\n",
       "    <tr>\n",
       "      <th>4</th>\n",
       "      <td>102.7</td>\n",
       "      <td>29.6</td>\n",
       "      <td>8.4</td>\n",
       "      <td>14.0</td>\n",
       "      <td>13.022303</td>\n",
       "      <td>6.983548</td>\n",
       "    </tr>\n",
       "  </tbody>\n",
       "</table>\n",
       "</div>"
      ],
      "text/plain": [
       "      TV  Radio  Newspaper  Sales  Predicted Sales      Error\n",
       "0   88.3   25.5       73.4   12.9        11.541882  10.528046\n",
       "1   25.6   39.0        9.3    9.5        11.128947  17.146810\n",
       "2   94.2    4.9        8.1    9.7         8.058200  16.925777\n",
       "3  184.9   43.9        1.7   20.7        19.539128   5.608077\n",
       "4  102.7   29.6        8.4   14.0        13.022303   6.983548"
      ]
     },
     "execution_count": 12,
     "metadata": {},
     "output_type": "execute_result"
    }
   ],
   "source": [
    "from sklearn.linear_model import LinearRegression\n",
    "ln=LinearRegression()\n",
    "x = df_media.drop('Sales', axis=1)\n",
    "y = df_media.iloc[:,-1]\n",
    "from sklearn.model_selection import train_test_split\n",
    "x_train, x_test, y_train, y_test = train_test_split(x,y, test_size =.25)\n",
    "df_model = ln.fit(x_train, y_train)\n",
    "pred_sales = df_model.predict(x_test)\n",
    "pred_sales = pd.DataFrame(pred_sales, columns=['Predicted Sales'])\n",
    "new_model = pd.concat([pd.concat([x_test,y_test],axis=1).reset_index(),pred_sales],axis=1)\n",
    "new_model['Error']= (abs(new_model['Sales'] - new_model['Predicted Sales'])/new_model['Sales'])*100\n",
    "from sklearn import metrics\n",
    "import numpy as np\n",
    "print (np.sqrt(metrics.mean_squared_error(y_test,pred_sales)))\n",
    "new_model = new_model.drop('index', axis=1)\n",
    "new_model.head()"
   ]
  },
  {
   "cell_type": "code",
   "execution_count": null,
   "metadata": {},
   "outputs": [],
   "source": []
  }
 ],
 "metadata": {
  "kernelspec": {
   "display_name": "Python 3",
   "language": "python",
   "name": "python3"
  },
  "language_info": {
   "codemirror_mode": {
    "name": "ipython",
    "version": 3
   },
   "file_extension": ".py",
   "mimetype": "text/x-python",
   "name": "python",
   "nbconvert_exporter": "python",
   "pygments_lexer": "ipython3",
   "version": "3.7.6"
  }
 },
 "nbformat": 4,
 "nbformat_minor": 4
}
