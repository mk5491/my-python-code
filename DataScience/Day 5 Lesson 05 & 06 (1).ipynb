{
 "cells": [
  {
   "cell_type": "code",
   "execution_count": 2,
   "metadata": {},
   "outputs": [
    {
     "data": {
      "text/plain": [
       "10"
      ]
     },
     "execution_count": 2,
     "metadata": {},
     "output_type": "execute_result"
    }
   ],
   "source": [
    "#### Lesson 05 - Numpy"
   ]
  },
  {
   "cell_type": "code",
   "execution_count": null,
   "metadata": {},
   "outputs": [],
   "source": [
    "len(range(10))"
   ]
  },
  {
   "cell_type": "code",
   "execution_count": 6,
   "metadata": {},
   "outputs": [
    {
     "data": {
      "text/plain": [
       "array([[ 101, 1000],\n",
       "       [ 102, 1100],\n",
       "       [ 103, 3000]])"
      ]
     },
     "execution_count": 6,
     "metadata": {},
     "output_type": "execute_result"
    }
   ],
   "source": [
    "import numpy as np\n",
    "EmpRecs = np.array([[101,1000],[102,1100],[103,3000]])\n",
    "EmpRecs"
   ]
  },
  {
   "cell_type": "code",
   "execution_count": 7,
   "metadata": {},
   "outputs": [
    {
     "data": {
      "text/plain": [
       "2"
      ]
     },
     "execution_count": 7,
     "metadata": {},
     "output_type": "execute_result"
    }
   ],
   "source": [
    "EmpRecs.ndim"
   ]
  },
  {
   "cell_type": "code",
   "execution_count": 9,
   "metadata": {},
   "outputs": [
    {
     "data": {
      "text/plain": [
       "(3L, 2L)"
      ]
     },
     "execution_count": 9,
     "metadata": {},
     "output_type": "execute_result"
    }
   ],
   "source": [
    "EmpRecs.shape"
   ]
  },
  {
   "cell_type": "code",
   "execution_count": 10,
   "metadata": {},
   "outputs": [
    {
     "data": {
      "text/plain": [
       "6"
      ]
     },
     "execution_count": 10,
     "metadata": {},
     "output_type": "execute_result"
    }
   ],
   "source": [
    "EmpRecs.size"
   ]
  },
  {
   "cell_type": "code",
   "execution_count": 11,
   "metadata": {},
   "outputs": [
    {
     "data": {
      "text/plain": [
       "dtype('int32')"
      ]
     },
     "execution_count": 11,
     "metadata": {},
     "output_type": "execute_result"
    }
   ],
   "source": [
    "EmpRecs.dtype"
   ]
  },
  {
   "cell_type": "code",
   "execution_count": 12,
   "metadata": {},
   "outputs": [
    {
     "data": {
      "text/plain": [
       "array([[10, 56, 23, 15, 34],\n",
       "       [67, 34, 21, 19, 14]])"
      ]
     },
     "execution_count": 12,
     "metadata": {},
     "output_type": "execute_result"
    }
   ],
   "source": [
    "first_trial_cyclist = np.array([10,56,23,15,34])\n",
    "second_trial_cyclist = np.array([67,34,21,19,14])\n",
    "FinalTable = np.array([first_trial_cyclist,second_trial_cyclist])\n",
    "FinalTable"
   ]
  },
  {
   "cell_type": "code",
   "execution_count": 14,
   "metadata": {},
   "outputs": [
    {
     "data": {
      "text/plain": [
       "array([10, 56, 23, 15, 34])"
      ]
     },
     "execution_count": 14,
     "metadata": {},
     "output_type": "execute_result"
    }
   ],
   "source": [
    "FinalTable[0]\n",
    "#or\n",
    "FinalTable[0,:]"
   ]
  },
  {
   "cell_type": "code",
   "execution_count": 15,
   "metadata": {},
   "outputs": [
    {
     "data": {
      "text/plain": [
       "23"
      ]
     },
     "execution_count": 15,
     "metadata": {},
     "output_type": "execute_result"
    }
   ],
   "source": [
    "FinalTable[0,2]"
   ]
  },
  {
   "cell_type": "code",
   "execution_count": 16,
   "metadata": {},
   "outputs": [
    {
     "data": {
      "text/plain": [
       "array([56, 34])"
      ]
     },
     "execution_count": 16,
     "metadata": {},
     "output_type": "execute_result"
    }
   ],
   "source": [
    "FinalTable[:,1]"
   ]
  },
  {
   "cell_type": "code",
   "execution_count": 18,
   "metadata": {},
   "outputs": [
    {
     "data": {
      "text/plain": [
       "array([23, 15])"
      ]
     },
     "execution_count": 18,
     "metadata": {},
     "output_type": "execute_result"
    }
   ],
   "source": [
    "FinalTable[0,[2,3]]"
   ]
  },
  {
   "cell_type": "code",
   "execution_count": 19,
   "metadata": {},
   "outputs": [
    {
     "data": {
      "text/plain": [
       "array([23, 34])"
      ]
     },
     "execution_count": 19,
     "metadata": {},
     "output_type": "execute_result"
    }
   ],
   "source": [
    "FinalTable[0,[2,4]]"
   ]
  },
  {
   "cell_type": "code",
   "execution_count": 4,
   "metadata": {},
   "outputs": [
    {
     "data": {
      "text/plain": [
       "array([1000])"
      ]
     },
     "execution_count": 4,
     "metadata": {},
     "output_type": "execute_result"
    }
   ],
   "source": [
    "a = np.array([1000,567])\n",
    "b = np.array([True,False])\n",
    "a[b]\n",
    "# now refer to slide 33 of Lesson 05"
   ]
  },
  {
   "cell_type": "code",
   "execution_count": 5,
   "metadata": {},
   "outputs": [
    {
     "data": {
      "text/plain": [
       "3.141592653589793"
      ]
     },
     "execution_count": 5,
     "metadata": {},
     "output_type": "execute_result"
    }
   ],
   "source": [
    "np.pi"
   ]
  },
  {
   "cell_type": "code",
   "execution_count": 6,
   "metadata": {},
   "outputs": [
    {
     "data": {
      "text/plain": [
       "3.0"
      ]
     },
     "execution_count": 6,
     "metadata": {},
     "output_type": "execute_result"
    }
   ],
   "source": [
    "np.floor(3.676)"
   ]
  },
  {
   "cell_type": "code",
   "execution_count": 7,
   "metadata": {},
   "outputs": [
    {
     "data": {
      "text/plain": [
       "4.0"
      ]
     },
     "execution_count": 7,
     "metadata": {},
     "output_type": "execute_result"
    }
   ],
   "source": [
    "np.ceil(3.676)"
   ]
  },
  {
   "cell_type": "code",
   "execution_count": 9,
   "metadata": {},
   "outputs": [
    {
     "data": {
      "text/plain": [
       "2.718281828459045"
      ]
     },
     "execution_count": 9,
     "metadata": {},
     "output_type": "execute_result"
    }
   ],
   "source": [
    "np.exp(1)"
   ]
  },
  {
   "cell_type": "code",
   "execution_count": 10,
   "metadata": {},
   "outputs": [
    {
     "name": "stdout",
     "output_type": "stream",
     "text": [
      "[[10 15 17 26 13 19]\n",
      " [12 11 21 24 14 23]]\n"
     ]
    }
   ],
   "source": [
    "new_cyclist_trials = np.array([[10,15,17,26,13,19],[12,11,21,24,14,23]])\n",
    "print(new_cyclist_trials)\n"
   ]
  },
  {
   "cell_type": "code",
   "execution_count": 11,
   "metadata": {},
   "outputs": [
    {
     "name": "stdout",
     "output_type": "stream",
     "text": [
      "[10 15 17 26 13 19 12 11 21 24 14 23]\n"
     ]
    }
   ],
   "source": [
    "print(new_cyclist_trials.ravel())"
   ]
  },
  {
   "cell_type": "code",
   "execution_count": 14,
   "metadata": {},
   "outputs": [
    {
     "name": "stdout",
     "output_type": "stream",
     "text": [
      "[[10 15 17 26]\n",
      " [13 19 12 11]\n",
      " [21 24 14 23]]\n"
     ]
    }
   ],
   "source": [
    "print(new_cyclist_trials.reshape(3,4)) # will not overwrite original data"
   ]
  },
  {
   "cell_type": "code",
   "execution_count": 15,
   "metadata": {},
   "outputs": [
    {
     "data": {
      "text/plain": [
       "array([[10, 15, 17, 26, 13, 19],\n",
       "       [12, 11, 21, 24, 14, 23]])"
      ]
     },
     "execution_count": 15,
     "metadata": {},
     "output_type": "execute_result"
    }
   ],
   "source": [
    "new_cyclist_trials"
   ]
  },
  {
   "cell_type": "code",
   "execution_count": 17,
   "metadata": {},
   "outputs": [],
   "source": [
    "new_cyclist_trials.resize(3,4) # will change original data"
   ]
  },
  {
   "cell_type": "code",
   "execution_count": 18,
   "metadata": {},
   "outputs": [
    {
     "data": {
      "text/plain": [
       "array([[10, 15, 17, 26],\n",
       "       [13, 19, 12, 11],\n",
       "       [21, 24, 14, 23]])"
      ]
     },
     "execution_count": 18,
     "metadata": {},
     "output_type": "execute_result"
    }
   ],
   "source": [
    "new_cyclist_trials"
   ]
  },
  {
   "cell_type": "code",
   "execution_count": 20,
   "metadata": {},
   "outputs": [
    {
     "data": {
      "text/plain": [
       "array([[10, 15, 17, 26, 13, 19],\n",
       "       [12, 11, 21, 24, 14, 23]])"
      ]
     },
     "execution_count": 20,
     "metadata": {},
     "output_type": "execute_result"
    }
   ],
   "source": [
    "new_cyclist_trials = np.array([[10,15,17,26,13,19],[12,11,21,24,14,23]])\n",
    "new_cyclist_trials"
   ]
  },
  {
   "cell_type": "code",
   "execution_count": 21,
   "metadata": {},
   "outputs": [
    {
     "data": {
      "text/plain": [
       "[array([[10, 15, 17],\n",
       "        [12, 11, 21]]), array([[26, 13, 19],\n",
       "        [24, 14, 23]])]"
      ]
     },
     "execution_count": 21,
     "metadata": {},
     "output_type": "execute_result"
    }
   ],
   "source": [
    "np.hsplit(new_cyclist_trials,2)"
   ]
  },
  {
   "cell_type": "code",
   "execution_count": 22,
   "metadata": {},
   "outputs": [
    {
     "data": {
      "text/plain": [
       "[array([[10, 15, 17, 26, 13, 19]]), array([[12, 11, 21, 24, 14, 23]])]"
      ]
     },
     "execution_count": 22,
     "metadata": {},
     "output_type": "execute_result"
    }
   ],
   "source": [
    "np.vsplit(new_cyclist_trials,2)"
   ]
  },
  {
   "cell_type": "code",
   "execution_count": 24,
   "metadata": {},
   "outputs": [
    {
     "data": {
      "text/plain": [
       "array([10, 15, 17, 26, 13, 19, 12, 11, 21, 24, 14, 23])"
      ]
     },
     "execution_count": 24,
     "metadata": {},
     "output_type": "execute_result"
    }
   ],
   "source": [
    "new_cyclist_trials1 = np.array([10,15,17,26,13,19])\n",
    "new_cyclist_trials2 = np.array([12,11,21,24,14,23])\n",
    "np.hstack((new_cyclist_trials1,new_cyclist_trials2))\n"
   ]
  },
  {
   "cell_type": "code",
   "execution_count": 25,
   "metadata": {},
   "outputs": [
    {
     "name": "stdout",
     "output_type": "stream",
     "text": [
      "[[10 15 17 26 13 19]\n",
      " [12 11 21 24 14 23]]\n"
     ]
    },
    {
     "data": {
      "text/plain": [
       "array([[10, 12],\n",
       "       [15, 11],\n",
       "       [17, 21],\n",
       "       [26, 24],\n",
       "       [13, 14],\n",
       "       [19, 23]])"
      ]
     },
     "execution_count": 25,
     "metadata": {},
     "output_type": "execute_result"
    }
   ],
   "source": [
    "new_cyclist_trials = np.array([[10,15,17,26,13,19],[12,11,21,24,14,23]])\n",
    "print(new_cyclist_trials)\n",
    "new_cyclist_trials.transpose()\n"
   ]
  },
  {
   "cell_type": "code",
   "execution_count": 27,
   "metadata": {},
   "outputs": [
    {
     "name": "stdout",
     "output_type": "stream",
     "text": [
      "[[10 20]\n",
      " [15 25]]\n"
     ]
    },
    {
     "data": {
      "text/plain": [
       "array([[-0.5,  0.4],\n",
       "       [ 0.3, -0.2]])"
      ]
     },
     "execution_count": 27,
     "metadata": {},
     "output_type": "execute_result"
    }
   ],
   "source": [
    "inverse_array = np.array([[10,20],[15,25]])\n",
    "print(inverse_array)\n",
    "np.linalg.inv(inverse_array)"
   ]
  },
  {
   "cell_type": "code",
   "execution_count": null,
   "metadata": {},
   "outputs": [],
   "source": [
    "# slide 47 as an activity from Lesson 05"
   ]
  },
  {
   "cell_type": "code",
   "execution_count": 3,
   "metadata": {},
   "outputs": [],
   "source": [
    "countries = np.array(['Algeria','Angola','Argentina','Australia','Austria','Bahamas','Bangladesh','Belarus','Belgium','Bhutan','Brazil','Bulgaria','Cambodia','Cameroon','Chile','China','Colombia','Cyprus','Denmark','El Salvador','Estonia','Ethiopia','Fiji','Finland','France','Georgia','Ghana','Grenada','Guinea','Haiti','Honduras','Hungary','India','Indonesia','Ireland','Italy','Japan','Kenya', 'South Korea','Liberia','Malaysia','Mexico', 'Morocco','Nepal','New Zealand','Norway','Pakistan', 'Peru','Qatar','Russia','Singapore','South Africa','Spain','Sweden','Switzerland','Thailand', 'United Arab Emirates','United Kingdom','United States','Uruguay','Venezuela','Vietnam','Zimbabwe'])\n",
    "gdp = np.array([2255.225482,629.9553062,11601.63022,25306.82494,27266.40335,19466.99052,588.3691778,2890.345675,24733.62696,1445.760002,4803.398244,2618.876037,590.4521124,665.7982328,7122.938458,2639.54156,3362.4656,15378.16704,30860.12808,2579.115607,6525.541272,229.6769525,2242.689259,27570.4852,23016.84778,1334.646773,402.6953275,6047.200797,394.1156638,385.5793827,1414.072488,5745.981529,837.7464011,1206.991065,27715.52837,18937.24998,39578.07441,478.2194906,16684.21278,279.2204061,5345.213415,6288.25324,1908.304416,274.8728621,14646.42094,40034.85063,672.1547506,3359.517402,36152.66676,3054.727742,33529.83052,3825.093781,15428.32098,33630.24604,39170.41371,2699.123242,21058.43643,28272.40661,37691.02733,9581.05659,5671.912202,757.4009286,347.7456605])\n"
   ]
  },
  {
   "cell_type": "code",
   "execution_count": 8,
   "metadata": {},
   "outputs": [
    {
     "name": "stdout",
     "output_type": "stream",
     "text": [
      "45\n"
     ]
    },
    {
     "data": {
      "text/plain": [
       "'Norway'"
      ]
     },
     "execution_count": 8,
     "metadata": {},
     "output_type": "execute_result"
    }
   ],
   "source": [
    "#highest GDP\n",
    "Highest_gdp_country = gdp.argmax()\n",
    "print(Highest_gdp_country)\n",
    "countries[Highest_gdp_country]"
   ]
  },
  {
   "cell_type": "code",
   "execution_count": 9,
   "metadata": {},
   "outputs": [
    {
     "name": "stdout",
     "output_type": "stream",
     "text": [
      "21\n"
     ]
    },
    {
     "data": {
      "text/plain": [
       "'Ethiopia'"
      ]
     },
     "execution_count": 9,
     "metadata": {},
     "output_type": "execute_result"
    }
   ],
   "source": [
    "#lowest GDP\n",
    "Highest_gdp_country = gdp.argmin()\n",
    "print(Highest_gdp_country)\n",
    "countries[Highest_gdp_country]"
   ]
  },
  {
   "cell_type": "code",
   "execution_count": 10,
   "metadata": {},
   "outputs": [
    {
     "name": "stdout",
     "output_type": "stream",
     "text": [
      "('Algeria', 2255.225482)\n",
      "('Angola', 629.9553062)\n",
      "('Argentina', 11601.63022)\n",
      "('Australia', 25306.82494)\n",
      "('Austria', 27266.40335)\n",
      "('Bahamas', 19466.99052)\n",
      "('Bangladesh', 588.3691778)\n",
      "('Belarus', 2890.345675)\n",
      "('Belgium', 24733.62696)\n",
      "('Bhutan', 1445.760002)\n",
      "('Brazil', 4803.398244)\n",
      "('Bulgaria', 2618.876037)\n",
      "('Cambodia', 590.4521124)\n",
      "('Cameroon', 665.7982328)\n",
      "('Chile', 7122.938458)\n",
      "('China', 2639.54156)\n",
      "('Colombia', 3362.4656)\n",
      "('Cyprus', 15378.16704)\n",
      "('Denmark', 30860.12808)\n",
      "('El Salvador', 2579.115607)\n",
      "('Estonia', 6525.541272)\n",
      "('Ethiopia', 229.6769525)\n",
      "('Fiji', 2242.689259)\n",
      "('Finland', 27570.4852)\n",
      "('France', 23016.84778)\n",
      "('Georgia', 1334.646773)\n",
      "('Ghana', 402.6953275)\n",
      "('Grenada', 6047.200797)\n",
      "('Guinea', 394.1156638)\n",
      "('Haiti', 385.5793827)\n",
      "('Honduras', 1414.072488)\n",
      "('Hungary', 5745.981529)\n",
      "('India', 837.7464011)\n",
      "('Indonesia', 1206.991065)\n",
      "('Ireland', 27715.52837)\n",
      "('Italy', 18937.24998)\n",
      "('Japan', 39578.07441)\n",
      "('Kenya', 478.2194906)\n",
      "('South Korea', 16684.21278)\n",
      "('Liberia', 279.2204061)\n",
      "('Malaysia', 5345.213415)\n",
      "('Mexico', 6288.25324)\n",
      "('Morocco', 1908.304416)\n",
      "('Nepal', 274.8728621)\n",
      "('New Zealand', 14646.42094)\n",
      "('Norway', 40034.85063)\n",
      "('Pakistan', 672.1547506)\n",
      "('Peru', 3359.517402)\n",
      "('Qatar', 36152.66676)\n",
      "('Russia', 3054.727742)\n",
      "('Singapore', 33529.83052)\n",
      "('South Africa', 3825.093781)\n",
      "('Spain', 15428.32098)\n",
      "('Sweden', 33630.24604)\n",
      "('Switzerland', 39170.41371)\n",
      "('Thailand', 2699.123242)\n",
      "('United Arab Emirates', 21058.43643)\n",
      "('United Kingdom', 28272.40661)\n",
      "('United States', 37691.02733)\n",
      "('Uruguay', 9581.05659)\n",
      "('Venezuela', 5671.912202)\n",
      "('Vietnam', 757.4009286)\n",
      "('Zimbabwe', 347.7456605)\n"
     ]
    }
   ],
   "source": [
    "# text and input values iteratively\n",
    "for country_name,gdp_country in zip(countries,gdp):\n",
    "    print(country_name,gdp_country)"
   ]
  },
  {
   "cell_type": "code",
   "execution_count": 13,
   "metadata": {},
   "outputs": [
    {
     "name": "stdout",
     "output_type": "stream",
     "text": [
      "40034.85063\n",
      "229.6769525\n",
      "11289.409271639683\n",
      "12743.828910617945\n",
      "711232.7841133\n"
     ]
    },
    {
     "data": {
      "text/plain": [
       "array([-0.70890655, -0.83644045,  0.02449978,  1.09993753,  1.25370438,\n",
       "        0.6416895 , -0.83970368, -0.65906908,  1.05495905, -0.77242478,\n",
       "       -0.50895308, -0.68037113, -0.83954024, -0.83362788, -0.32694027,\n",
       "       -0.67874952, -0.62202214,  0.32084217,  1.53570163, -0.6834911 ,\n",
       "       -0.37381764, -0.86785003, -0.70989026,  1.27756548,  0.9202445 ,\n",
       "       -0.78114377, -0.85427339, -0.4113527 , -0.85494663, -0.85561647,\n",
       "       -0.77491128, -0.43498918, -0.82013522, -0.79116083,  1.28894693,\n",
       "        0.60012111,  2.21979323, -0.84834706,  0.42332674, -0.86396239,\n",
       "       -0.4664372 , -0.39243747, -0.73612922, -0.86430354,  0.26342253,\n",
       "        2.25563616, -0.83312909, -0.62225348,  1.95100371, -0.64617013,\n",
       "        1.74519145, -0.58572   ,  0.32477772,  1.75307099,  2.18780436,\n",
       "       -0.67407418,  0.76656923,  1.3326448 ,  2.07171787, -0.13405333,\n",
       "       -0.44080136, -0.82643987, -0.85858526])"
      ]
     },
     "execution_count": 13,
     "metadata": {},
     "output_type": "execute_result"
    }
   ],
   "source": [
    "# last question highest, lowest....\n",
    "print(gdp.max())\n",
    "print(gdp.min())\n",
    "print(gdp.mean())\n",
    "print(gdp.sum())\n",
    "# standardized GDP\n",
    "(gdp-gdp.mean())/gdp.std()"
   ]
  },
  {
   "cell_type": "code",
   "execution_count": 14,
   "metadata": {},
   "outputs": [
    {
     "data": {
      "text/plain": [
       "array([[ 0.12068966, -0.10344828],\n",
       "       [-0.03448276,  0.17241379]])"
      ]
     },
     "execution_count": 14,
     "metadata": {},
     "output_type": "execute_result"
    }
   ],
   "source": [
    "# lesson 06 - Scipy\n",
    "inverse_array = np.array([[10,6],[2,7]])\n",
    "inverse_array\n",
    "np.linalg.inv(inverse_array)\n"
   ]
  },
  {
   "cell_type": "code",
   "execution_count": 16,
   "metadata": {},
   "outputs": [
    {
     "data": {
      "text/plain": [
       "array([[10,  6],\n",
       "       [ 2,  7]])"
      ]
     },
     "execution_count": 16,
     "metadata": {},
     "output_type": "execute_result"
    }
   ],
   "source": [
    "inverse_array"
   ]
  },
  {
   "cell_type": "code",
   "execution_count": 1,
   "metadata": {},
   "outputs": [
    {
     "ename": "NameError",
     "evalue": "name 'inverse_array' is not defined",
     "output_type": "error",
     "traceback": [
      "\u001b[1;31m\u001b[0m",
      "\u001b[1;31mNameError\u001b[0mTraceback (most recent call last)",
      "\u001b[1;32m<ipython-input-1-65c74a18c038>\u001b[0m in \u001b[0;36m<module>\u001b[1;34m()\u001b[0m\n\u001b[0;32m      1\u001b[0m \u001b[1;31m# OR – use numpy package\u001b[0m\u001b[1;33m\u001b[0m\u001b[1;33m\u001b[0m\u001b[0m\n\u001b[0;32m      2\u001b[0m \u001b[1;32mfrom\u001b[0m \u001b[0mscipy\u001b[0m \u001b[1;32mimport\u001b[0m \u001b[0mlinalg\u001b[0m\u001b[1;33m\u001b[0m\u001b[0m\n\u001b[1;32m----> 3\u001b[1;33m \u001b[0mlinalg\u001b[0m\u001b[1;33m.\u001b[0m\u001b[0minv\u001b[0m\u001b[1;33m(\u001b[0m\u001b[0minverse_array\u001b[0m\u001b[1;33m)\u001b[0m\u001b[1;33m\u001b[0m\u001b[0m\n\u001b[0m",
      "\u001b[1;31mNameError\u001b[0m: name 'inverse_array' is not defined"
     ]
    }
   ],
   "source": [
    "# OR – use numpy package\n",
    "from scipy import linalg\n",
    "linalg.inv(inverse_array)\n"
   ]
  },
  {
   "cell_type": "code",
   "execution_count": 20,
   "metadata": {},
   "outputs": [
    {
     "name": "stdout",
     "output_type": "stream",
     "text": [
      "[[1 1]\n",
      " [3 2]]\n",
      "[ 5 12]\n"
     ]
    },
    {
     "data": {
      "text/plain": [
       "array([2., 3.])"
      ]
     },
     "execution_count": 20,
     "metadata": {},
     "output_type": "execute_result"
    }
   ],
   "source": [
    "# linear programming example for product A and B with Raw material 1 and Raw material 1  \n",
    "Beta_coeff = np.array([[1,1],[3,2]])\n",
    "print(Beta_coeff)\n",
    "constraints=np.array([5,12])\n",
    "print(constraints)\n",
    "from scipy import linalg\n",
    "linalg.solve(Beta_coeff,constraints)"
   ]
  },
  {
   "cell_type": "code",
   "execution_count": 28,
   "metadata": {},
   "outputs": [
    {
     "data": {
      "text/plain": [
       "array([-1.05446309, -1.27487446, -0.31602148, -0.62089724, -1.09081575,\n",
       "       -0.92203177,  2.8189762 ,  0.86721881,  1.37364421, -1.57453877])"
      ]
     },
     "execution_count": 28,
     "metadata": {},
     "output_type": "execute_result"
    }
   ],
   "source": [
    "from scipy.stats import norm\n",
    "norm.rvs(loc=0,scale=1, size=10) "
   ]
  },
  {
   "cell_type": "code",
   "execution_count": 29,
   "metadata": {},
   "outputs": [
    {
     "data": {
      "text/plain": [
       "0.9772498680518208"
      ]
     },
     "execution_count": 29,
     "metadata": {},
     "output_type": "execute_result"
    }
   ],
   "source": [
    "norm.cdf(5,loc=1,scale=2)"
   ]
  },
  {
   "cell_type": "code",
   "execution_count": 30,
   "metadata": {},
   "outputs": [
    {
     "data": {
      "text/plain": [
       "0.02699548325659403"
      ]
     },
     "execution_count": 30,
     "metadata": {},
     "output_type": "execute_result"
    }
   ],
   "source": [
    "norm.pdf(5,loc=1,scale=2) "
   ]
  },
  {
   "cell_type": "code",
   "execution_count": 31,
   "metadata": {},
   "outputs": [
    {
     "data": {
      "text/plain": [
       "array([1.38143054e+02, 1.21660189e+02, 1.44167393e+02, 1.96831086e+02,\n",
       "       2.54382438e+02, 7.78668298e+01, 1.34748852e+02, 1.99348001e+02,\n",
       "       1.55958442e+02, 1.10578055e+01, 5.87783988e+01, 5.30263002e+00,\n",
       "       1.75314756e+02, 9.57457642e+01, 2.08975045e+02, 1.95896381e+02,\n",
       "       4.05470691e+01, 3.11516382e+00, 4.56223070e-01, 3.66466010e+01,\n",
       "       6.00832823e+01, 1.71565722e+02, 3.49454505e+02, 3.53274783e+01,\n",
       "       1.20878420e+01, 8.07810100e-01, 1.46108888e+02, 1.20033420e+01,\n",
       "       1.06791645e+02, 9.66457618e+01, 1.41413820e+01, 9.33115524e+01,\n",
       "       2.36340118e+01, 3.83867737e+02, 6.58435924e+01, 1.65704094e+01,\n",
       "       3.96426016e+02, 1.81312826e+02, 3.01239000e+01, 4.48513899e+01,\n",
       "       9.54539391e+01, 2.32213398e+02, 5.84545282e+01, 1.54358181e+01,\n",
       "       1.88346673e+02, 1.55642691e+02, 2.32106137e+02, 1.51011774e+02,\n",
       "       1.05227649e+02, 9.31552991e+00, 1.24257435e+02, 3.24340711e+01,\n",
       "       1.41972936e+02, 2.69526194e+01, 2.78476821e+01, 1.77202300e+01,\n",
       "       2.99061714e+02, 5.05889631e+01, 2.89143079e+01, 4.14206337e+02,\n",
       "       1.55997441e+02, 7.69798984e+00, 1.12524669e+01, 2.23108171e+01,\n",
       "       1.88546436e+02, 3.23260678e+02, 3.39130098e+00, 5.50006060e+01,\n",
       "       2.08686571e+02, 3.78679984e+00, 4.42202571e+00, 7.49179094e+01,\n",
       "       2.04897247e+02, 2.25537407e+02, 1.12886979e+02, 2.93077964e+01,\n",
       "       1.31261485e+02, 7.76900018e+01, 4.80983750e+01, 1.30311488e+02,\n",
       "       2.20723700e+01, 3.69870253e+01, 5.06827068e+01, 1.11925227e+02,\n",
       "       5.57781073e+00, 5.23429317e+01, 7.29241435e+01, 1.04943334e+02,\n",
       "       5.79095857e+01, 2.93378490e+02, 6.60647606e+01, 2.60842677e+02,\n",
       "       3.43954258e+02, 1.70035654e+02, 3.68800025e+02, 6.10245449e+02,\n",
       "       4.51121948e+01, 1.05456109e+02, 7.65293415e+00, 7.86564384e+01])"
      ]
     },
     "execution_count": 31,
     "metadata": {},
     "output_type": "execute_result"
    }
   ],
   "source": [
    "from scipy.stats import expon\n",
    "expon.rvs(scale=120,loc=0,size=100)"
   ]
  },
  {
   "cell_type": "code",
   "execution_count": 3,
   "metadata": {},
   "outputs": [
    {
     "name": "stdout",
     "output_type": "stream",
     "text": [
      "[[1 1]\n",
      " [4 9]]\n",
      "[ 30 150]\n"
     ]
    },
    {
     "data": {
      "text/plain": [
       "array([24.,  6.])"
      ]
     },
     "execution_count": 3,
     "metadata": {},
     "output_type": "execute_result"
    }
   ],
   "source": [
    "#Slide 32 of lesson 6 for activity\n",
    "true_or_false = np.array([[1,1],[4,9]])\n",
    "print(true_or_false)\n",
    "constraints = np.array([30,150])\n",
    "print(constraints)\n",
    "from scipy import linalg\n",
    "linalg.solve(true_or_false,constraints)"
   ]
  }
 ],
 "metadata": {
  "kernelspec": {
   "display_name": "Python 3",
   "language": "python",
   "name": "python3"
  },
  "language_info": {
   "codemirror_mode": {
    "name": "ipython",
    "version": 3
   },
   "file_extension": ".py",
   "mimetype": "text/x-python",
   "name": "python",
   "nbconvert_exporter": "python",
   "pygments_lexer": "ipython3",
   "version": "3.7.6"
  }
 },
 "nbformat": 4,
 "nbformat_minor": 4
}
